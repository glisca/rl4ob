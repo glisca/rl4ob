{
 "cells": [
  {
   "cell_type": "markdown",
   "metadata": {
    "colab_type": "text",
    "id": "view-in-github"
   },
   "source": [
    "<a href=\"https://colab.research.google.com/github/Stable-Baselines-Team/rl-colab-notebooks/blob/sb3/stable_baselines_getting_started.ipynb\" target=\"_parent\"><img src=\"https://colab.research.google.com/assets/colab-badge.svg\" alt=\"Open In Colab\"/></a>"
   ]
  },
  {
   "cell_type": "markdown",
   "metadata": {
    "colab_type": "text",
    "id": "hyyN-2qyK_T2"
   },
   "source": [
    "# Stable Baselines3 Tutorial - Getting Started\n",
    "\n",
    "Github repo: https://github.com/araffin/rl-tutorial-jnrr19\n",
    "\n",
    "Stable-Baselines3: https://github.com/DLR-RM/stable-baselines3\n",
    "\n",
    "Documentation: https://stable-baselines.readthedocs.io/en/master/\n",
    "\n",
    "RL Baselines3 zoo: https://github.com/DLR-RM/rl-baselines3-zoo\n",
    "\n",
    "\n",
    "[RL Baselines3 Zoo](https://github.com/DLR-RM/rl-baselines3-zoo) is a training framework for Reinforcement Learning (RL), using Stable Baselines3.\n",
    "\n",
    "It provides scripts for training, evaluating agents, tuning hyperparameters, plotting results and recording videos.\n",
    "\n",
    "## Introduction\n",
    "\n",
    "In this notebook, you will learn the basics for using stable baselines3 library: how to create a RL model, train it and evaluate it. Because all algorithms share the same interface, we will see how simple it is to switch from one algorithm to another.\n",
    "\n",
    "\n",
    "## Install Dependencies and Stable Baselines3 Using Pip\n",
    "\n",
    "List of full dependencies can be found in the [README](https://github.com/DLR-RM/stable-baselines3).\n",
    "\n",
    "\n",
    "```\n",
    "pip install stable-baselines3[extra]\n",
    "```"
   ]
  },
  {
   "cell_type": "code",
   "execution_count": 1,
   "metadata": {},
   "outputs": [],
   "source": [
    "# for autoformatting\n",
    "# %load_ext jupyter_black"
   ]
  },
  {
   "cell_type": "code",
   "execution_count": 2,
   "metadata": {
    "colab": {},
    "colab_type": "code",
    "id": "gWskDE2c9WoN"
   },
   "outputs": [
    {
     "name": "stdout",
     "output_type": "stream",
     "text": [
      "Requirement already satisfied: stable-baselines3>=2.0.0a4 in /home/lisca/biomec/install/a202406/envs/ob-rl-ai/lib/python3.10/site-packages (from stable-baselines3[extra]>=2.0.0a4) (2.5.0a0)\n",
      "Requirement already satisfied: gymnasium<1.1.0,>=0.29.1 in /home/lisca/biomec/install/a202406/envs/ob-rl-ai/lib/python3.10/site-packages (from stable-baselines3>=2.0.0a4->stable-baselines3[extra]>=2.0.0a4) (1.0.0)\n",
      "Requirement already satisfied: numpy<3.0,>=1.20 in /home/lisca/biomec/install/a202406/envs/ob-rl-ai/lib/python3.10/site-packages (from stable-baselines3>=2.0.0a4->stable-baselines3[extra]>=2.0.0a4) (2.1.3)\n",
      "Requirement already satisfied: torch<3.0,>=2.3 in /home/lisca/biomec/install/a202406/envs/ob-rl-ai/lib/python3.10/site-packages (from stable-baselines3>=2.0.0a4->stable-baselines3[extra]>=2.0.0a4) (2.5.1)\n",
      "Requirement already satisfied: cloudpickle in /home/lisca/biomec/install/a202406/envs/ob-rl-ai/lib/python3.10/site-packages (from stable-baselines3>=2.0.0a4->stable-baselines3[extra]>=2.0.0a4) (3.1.0)\n",
      "Requirement already satisfied: pandas in /home/lisca/biomec/install/a202406/envs/ob-rl-ai/lib/python3.10/site-packages (from stable-baselines3>=2.0.0a4->stable-baselines3[extra]>=2.0.0a4) (2.2.3)\n",
      "Requirement already satisfied: matplotlib in /home/lisca/biomec/install/a202406/envs/ob-rl-ai/lib/python3.10/site-packages (from stable-baselines3>=2.0.0a4->stable-baselines3[extra]>=2.0.0a4) (3.9.2)\n",
      "Requirement already satisfied: opencv-python in /home/lisca/biomec/install/a202406/envs/ob-rl-ai/lib/python3.10/site-packages (from stable-baselines3[extra]>=2.0.0a4) (4.10.0.84)\n",
      "Requirement already satisfied: pygame in /home/lisca/biomec/install/a202406/envs/ob-rl-ai/lib/python3.10/site-packages (from stable-baselines3[extra]>=2.0.0a4) (2.6.1)\n",
      "Requirement already satisfied: tensorboard>=2.9.1 in /home/lisca/biomec/install/a202406/envs/ob-rl-ai/lib/python3.10/site-packages (from stable-baselines3[extra]>=2.0.0a4) (2.18.0)\n",
      "Requirement already satisfied: psutil in /home/lisca/biomec/install/a202406/envs/ob-rl-ai/lib/python3.10/site-packages (from stable-baselines3[extra]>=2.0.0a4) (6.1.0)\n",
      "Requirement already satisfied: tqdm in /home/lisca/biomec/install/a202406/envs/ob-rl-ai/lib/python3.10/site-packages (from stable-baselines3[extra]>=2.0.0a4) (4.67.1)\n",
      "Requirement already satisfied: rich in /home/lisca/biomec/install/a202406/envs/ob-rl-ai/lib/python3.10/site-packages (from stable-baselines3[extra]>=2.0.0a4) (13.9.4)\n",
      "Requirement already satisfied: ale-py>=0.9.0 in /home/lisca/biomec/install/a202406/envs/ob-rl-ai/lib/python3.10/site-packages (from stable-baselines3[extra]>=2.0.0a4) (0.10.1)\n",
      "Requirement already satisfied: pillow in /home/lisca/biomec/install/a202406/envs/ob-rl-ai/lib/python3.10/site-packages (from stable-baselines3[extra]>=2.0.0a4) (10.4.0)\n",
      "Requirement already satisfied: typing-extensions in /home/lisca/biomec/install/a202406/envs/ob-rl-ai/lib/python3.10/site-packages (from ale-py>=0.9.0->stable-baselines3[extra]>=2.0.0a4) (4.12.2)\n",
      "Requirement already satisfied: farama-notifications>=0.0.1 in /home/lisca/biomec/install/a202406/envs/ob-rl-ai/lib/python3.10/site-packages (from gymnasium<1.1.0,>=0.29.1->stable-baselines3>=2.0.0a4->stable-baselines3[extra]>=2.0.0a4) (0.0.4)\n",
      "Requirement already satisfied: absl-py>=0.4 in /home/lisca/biomec/install/a202406/envs/ob-rl-ai/lib/python3.10/site-packages (from tensorboard>=2.9.1->stable-baselines3[extra]>=2.0.0a4) (2.1.0)\n",
      "Requirement already satisfied: grpcio>=1.48.2 in /home/lisca/biomec/install/a202406/envs/ob-rl-ai/lib/python3.10/site-packages (from tensorboard>=2.9.1->stable-baselines3[extra]>=2.0.0a4) (1.68.0)\n",
      "Requirement already satisfied: markdown>=2.6.8 in /home/lisca/biomec/install/a202406/envs/ob-rl-ai/lib/python3.10/site-packages (from tensorboard>=2.9.1->stable-baselines3[extra]>=2.0.0a4) (3.7)\n",
      "Requirement already satisfied: packaging in /home/lisca/biomec/install/a202406/envs/ob-rl-ai/lib/python3.10/site-packages (from tensorboard>=2.9.1->stable-baselines3[extra]>=2.0.0a4) (24.2)\n",
      "Requirement already satisfied: protobuf!=4.24.0,>=3.19.6 in /home/lisca/biomec/install/a202406/envs/ob-rl-ai/lib/python3.10/site-packages (from tensorboard>=2.9.1->stable-baselines3[extra]>=2.0.0a4) (5.28.3)\n",
      "Requirement already satisfied: setuptools>=41.0.0 in /home/lisca/biomec/install/a202406/envs/ob-rl-ai/lib/python3.10/site-packages (from tensorboard>=2.9.1->stable-baselines3[extra]>=2.0.0a4) (75.1.0)\n",
      "Requirement already satisfied: six>1.9 in /home/lisca/biomec/install/a202406/envs/ob-rl-ai/lib/python3.10/site-packages (from tensorboard>=2.9.1->stable-baselines3[extra]>=2.0.0a4) (1.16.0)\n",
      "Requirement already satisfied: tensorboard-data-server<0.8.0,>=0.7.0 in /home/lisca/biomec/install/a202406/envs/ob-rl-ai/lib/python3.10/site-packages (from tensorboard>=2.9.1->stable-baselines3[extra]>=2.0.0a4) (0.7.2)\n",
      "Requirement already satisfied: werkzeug>=1.0.1 in /home/lisca/biomec/install/a202406/envs/ob-rl-ai/lib/python3.10/site-packages (from tensorboard>=2.9.1->stable-baselines3[extra]>=2.0.0a4) (3.1.3)\n",
      "Requirement already satisfied: filelock in /home/lisca/biomec/install/a202406/envs/ob-rl-ai/lib/python3.10/site-packages (from torch<3.0,>=2.3->stable-baselines3>=2.0.0a4->stable-baselines3[extra]>=2.0.0a4) (3.16.1)\n",
      "Requirement already satisfied: networkx in /home/lisca/biomec/install/a202406/envs/ob-rl-ai/lib/python3.10/site-packages (from torch<3.0,>=2.3->stable-baselines3>=2.0.0a4->stable-baselines3[extra]>=2.0.0a4) (3.4.2)\n",
      "Requirement already satisfied: jinja2 in /home/lisca/biomec/install/a202406/envs/ob-rl-ai/lib/python3.10/site-packages (from torch<3.0,>=2.3->stable-baselines3>=2.0.0a4->stable-baselines3[extra]>=2.0.0a4) (3.1.4)\n",
      "Requirement already satisfied: fsspec in /home/lisca/biomec/install/a202406/envs/ob-rl-ai/lib/python3.10/site-packages (from torch<3.0,>=2.3->stable-baselines3>=2.0.0a4->stable-baselines3[extra]>=2.0.0a4) (2024.10.0)\n",
      "Requirement already satisfied: nvidia-cuda-nvrtc-cu12==12.4.127 in /home/lisca/biomec/install/a202406/envs/ob-rl-ai/lib/python3.10/site-packages (from torch<3.0,>=2.3->stable-baselines3>=2.0.0a4->stable-baselines3[extra]>=2.0.0a4) (12.4.127)\n",
      "Requirement already satisfied: nvidia-cuda-runtime-cu12==12.4.127 in /home/lisca/biomec/install/a202406/envs/ob-rl-ai/lib/python3.10/site-packages (from torch<3.0,>=2.3->stable-baselines3>=2.0.0a4->stable-baselines3[extra]>=2.0.0a4) (12.4.127)\n",
      "Requirement already satisfied: nvidia-cuda-cupti-cu12==12.4.127 in /home/lisca/biomec/install/a202406/envs/ob-rl-ai/lib/python3.10/site-packages (from torch<3.0,>=2.3->stable-baselines3>=2.0.0a4->stable-baselines3[extra]>=2.0.0a4) (12.4.127)\n",
      "Requirement already satisfied: nvidia-cudnn-cu12==9.1.0.70 in /home/lisca/biomec/install/a202406/envs/ob-rl-ai/lib/python3.10/site-packages (from torch<3.0,>=2.3->stable-baselines3>=2.0.0a4->stable-baselines3[extra]>=2.0.0a4) (9.1.0.70)\n",
      "Requirement already satisfied: nvidia-cublas-cu12==12.4.5.8 in /home/lisca/biomec/install/a202406/envs/ob-rl-ai/lib/python3.10/site-packages (from torch<3.0,>=2.3->stable-baselines3>=2.0.0a4->stable-baselines3[extra]>=2.0.0a4) (12.4.5.8)\n",
      "Requirement already satisfied: nvidia-cufft-cu12==11.2.1.3 in /home/lisca/biomec/install/a202406/envs/ob-rl-ai/lib/python3.10/site-packages (from torch<3.0,>=2.3->stable-baselines3>=2.0.0a4->stable-baselines3[extra]>=2.0.0a4) (11.2.1.3)\n",
      "Requirement already satisfied: nvidia-curand-cu12==10.3.5.147 in /home/lisca/biomec/install/a202406/envs/ob-rl-ai/lib/python3.10/site-packages (from torch<3.0,>=2.3->stable-baselines3>=2.0.0a4->stable-baselines3[extra]>=2.0.0a4) (10.3.5.147)\n",
      "Requirement already satisfied: nvidia-cusolver-cu12==11.6.1.9 in /home/lisca/biomec/install/a202406/envs/ob-rl-ai/lib/python3.10/site-packages (from torch<3.0,>=2.3->stable-baselines3>=2.0.0a4->stable-baselines3[extra]>=2.0.0a4) (11.6.1.9)\n",
      "Requirement already satisfied: nvidia-cusparse-cu12==12.3.1.170 in /home/lisca/biomec/install/a202406/envs/ob-rl-ai/lib/python3.10/site-packages (from torch<3.0,>=2.3->stable-baselines3>=2.0.0a4->stable-baselines3[extra]>=2.0.0a4) (12.3.1.170)\n",
      "Requirement already satisfied: nvidia-nccl-cu12==2.21.5 in /home/lisca/biomec/install/a202406/envs/ob-rl-ai/lib/python3.10/site-packages (from torch<3.0,>=2.3->stable-baselines3>=2.0.0a4->stable-baselines3[extra]>=2.0.0a4) (2.21.5)\n",
      "Requirement already satisfied: nvidia-nvtx-cu12==12.4.127 in /home/lisca/biomec/install/a202406/envs/ob-rl-ai/lib/python3.10/site-packages (from torch<3.0,>=2.3->stable-baselines3>=2.0.0a4->stable-baselines3[extra]>=2.0.0a4) (12.4.127)\n",
      "Requirement already satisfied: nvidia-nvjitlink-cu12==12.4.127 in /home/lisca/biomec/install/a202406/envs/ob-rl-ai/lib/python3.10/site-packages (from torch<3.0,>=2.3->stable-baselines3>=2.0.0a4->stable-baselines3[extra]>=2.0.0a4) (12.4.127)\n",
      "Requirement already satisfied: triton==3.1.0 in /home/lisca/biomec/install/a202406/envs/ob-rl-ai/lib/python3.10/site-packages (from torch<3.0,>=2.3->stable-baselines3>=2.0.0a4->stable-baselines3[extra]>=2.0.0a4) (3.1.0)\n",
      "Requirement already satisfied: sympy==1.13.1 in /home/lisca/biomec/install/a202406/envs/ob-rl-ai/lib/python3.10/site-packages (from torch<3.0,>=2.3->stable-baselines3>=2.0.0a4->stable-baselines3[extra]>=2.0.0a4) (1.13.1)\n",
      "Requirement already satisfied: mpmath<1.4,>=1.1.0 in /home/lisca/biomec/install/a202406/envs/ob-rl-ai/lib/python3.10/site-packages (from sympy==1.13.1->torch<3.0,>=2.3->stable-baselines3>=2.0.0a4->stable-baselines3[extra]>=2.0.0a4) (1.3.0)\n",
      "Requirement already satisfied: contourpy>=1.0.1 in /home/lisca/biomec/install/a202406/envs/ob-rl-ai/lib/python3.10/site-packages (from matplotlib->stable-baselines3>=2.0.0a4->stable-baselines3[extra]>=2.0.0a4) (1.3.1)\n",
      "Requirement already satisfied: cycler>=0.10 in /home/lisca/biomec/install/a202406/envs/ob-rl-ai/lib/python3.10/site-packages (from matplotlib->stable-baselines3>=2.0.0a4->stable-baselines3[extra]>=2.0.0a4) (0.12.1)\n",
      "Requirement already satisfied: fonttools>=4.22.0 in /home/lisca/biomec/install/a202406/envs/ob-rl-ai/lib/python3.10/site-packages (from matplotlib->stable-baselines3>=2.0.0a4->stable-baselines3[extra]>=2.0.0a4) (4.55.0)\n",
      "Requirement already satisfied: kiwisolver>=1.3.1 in /home/lisca/biomec/install/a202406/envs/ob-rl-ai/lib/python3.10/site-packages (from matplotlib->stable-baselines3>=2.0.0a4->stable-baselines3[extra]>=2.0.0a4) (1.4.7)\n",
      "Requirement already satisfied: pyparsing>=2.3.1 in /home/lisca/biomec/install/a202406/envs/ob-rl-ai/lib/python3.10/site-packages (from matplotlib->stable-baselines3>=2.0.0a4->stable-baselines3[extra]>=2.0.0a4) (3.2.0)\n",
      "Requirement already satisfied: python-dateutil>=2.7 in /home/lisca/biomec/install/a202406/envs/ob-rl-ai/lib/python3.10/site-packages (from matplotlib->stable-baselines3>=2.0.0a4->stable-baselines3[extra]>=2.0.0a4) (2.9.0.post0)\n",
      "Requirement already satisfied: pytz>=2020.1 in /home/lisca/biomec/install/a202406/envs/ob-rl-ai/lib/python3.10/site-packages (from pandas->stable-baselines3>=2.0.0a4->stable-baselines3[extra]>=2.0.0a4) (2024.2)\n",
      "Requirement already satisfied: tzdata>=2022.7 in /home/lisca/biomec/install/a202406/envs/ob-rl-ai/lib/python3.10/site-packages (from pandas->stable-baselines3>=2.0.0a4->stable-baselines3[extra]>=2.0.0a4) (2024.2)\n",
      "Requirement already satisfied: markdown-it-py>=2.2.0 in /home/lisca/biomec/install/a202406/envs/ob-rl-ai/lib/python3.10/site-packages (from rich->stable-baselines3[extra]>=2.0.0a4) (3.0.0)\n",
      "Requirement already satisfied: pygments<3.0.0,>=2.13.0 in /home/lisca/biomec/install/a202406/envs/ob-rl-ai/lib/python3.10/site-packages (from rich->stable-baselines3[extra]>=2.0.0a4) (2.18.0)\n",
      "Requirement already satisfied: mdurl~=0.1 in /home/lisca/biomec/install/a202406/envs/ob-rl-ai/lib/python3.10/site-packages (from markdown-it-py>=2.2.0->rich->stable-baselines3[extra]>=2.0.0a4) (0.1.2)\n",
      "Requirement already satisfied: MarkupSafe>=2.1.1 in /home/lisca/biomec/install/a202406/envs/ob-rl-ai/lib/python3.10/site-packages (from werkzeug>=1.0.1->tensorboard>=2.9.1->stable-baselines3[extra]>=2.0.0a4) (3.0.2)\n"
     ]
    }
   ],
   "source": [
    "# !apt-get update && apt-get install ffmpeg freeglut3-dev xvfb  # For visualization\n",
    "!pip install \"stable-baselines3[extra]>=2.0.0a4\""
   ]
  },
  {
   "cell_type": "code",
   "execution_count": 3,
   "metadata": {
    "colab": {},
    "colab_type": "code",
    "id": "U29X1-B-AIKE"
   },
   "outputs": [
    {
     "name": "stdout",
     "output_type": "stream",
     "text": [
      "stable_baselines3.__version__='2.5.0a0'\n"
     ]
    }
   ],
   "source": [
    "import stable_baselines3\n",
    "\n",
    "print(f\"{stable_baselines3.__version__=}\")"
   ]
  },
  {
   "cell_type": "markdown",
   "metadata": {
    "colab_type": "text",
    "id": "FtY8FhliLsGm"
   },
   "source": [
    "## Imports"
   ]
  },
  {
   "cell_type": "markdown",
   "metadata": {
    "colab_type": "text",
    "id": "gcX8hEcaUpR0"
   },
   "source": [
    "Stable-Baselines works on environments that follow the [gym interface](https://stable-baselines.readthedocs.io/en/master/guide/custom_env.html).\n",
    "You can find a list of available environment [here](https://gym.openai.com/envs/#classic_control).\n",
    "\n",
    "It is also recommended to check the [source code](https://github.com/openai/gym) to learn more about the observation and action space of each env, as gym does not have a proper documentation.\n",
    "Not all algorithms can work with all action spaces, you can find more in this [recap table](https://stable-baselines.readthedocs.io/en/master/guide/algos.html)"
   ]
  },
  {
   "cell_type": "code",
   "execution_count": 4,
   "metadata": {
    "colab": {},
    "colab_type": "code",
    "id": "BIedd7Pz9sOs"
   },
   "outputs": [
    {
     "name": "stdout",
     "output_type": "stream",
     "text": [
      "gym.__version__='1.0.0'\n"
     ]
    }
   ],
   "source": [
    "import gymnasium as gym\n",
    "import numpy as np\n",
    "\n",
    "print(f\"{gym.__version__=}\")"
   ]
  },
  {
   "cell_type": "markdown",
   "metadata": {
    "colab_type": "text",
    "id": "Ae32CtgzTG3R"
   },
   "source": [
    "The first thing you need to import is the RL model, check the documentation to know what you can use on which problem"
   ]
  },
  {
   "cell_type": "code",
   "execution_count": 5,
   "metadata": {
    "colab": {},
    "colab_type": "code",
    "id": "R7tKaBFrTR0a"
   },
   "outputs": [],
   "source": [
    "from stable_baselines3 import PPO"
   ]
  },
  {
   "cell_type": "markdown",
   "metadata": {
    "colab_type": "text",
    "id": "-0_8OQbOTTNT"
   },
   "source": [
    "The next thing you need to import is the policy class that will be used to create the networks (for the policy/value functions).\n",
    "This step is optional as you can directly use strings in the constructor: \n",
    "\n",
    "```PPO('MlpPolicy', env)``` instead of ```PPO(MlpPolicy, env)```\n",
    "\n",
    "Note that some algorithms like `SAC` have their own `MlpPolicy`, that's why using string for the policy is the recommened option."
   ]
  },
  {
   "cell_type": "code",
   "execution_count": 6,
   "metadata": {
    "colab": {},
    "colab_type": "code",
    "id": "ROUJr675TT01"
   },
   "outputs": [],
   "source": [
    "from stable_baselines3.ppo import MlpPolicy"
   ]
  },
  {
   "cell_type": "markdown",
   "metadata": {
    "colab_type": "text",
    "id": "RapkYvTXL7Cd"
   },
   "source": [
    "## Create the Gym env and instantiate the agent\n",
    "\n",
    "For this example, we will use CartPole environment, a classic control problem.\n",
    "\n",
    "\"A pole is attached by an un-actuated joint to a cart, which moves along a frictionless track. The system is controlled by applying a force of +1 or -1 to the cart. The pendulum starts upright, and the goal is to prevent it from falling over. A reward of +1 is provided for every timestep that the pole remains upright. \"\n",
    "\n",
    "Cartpole environment: [https://gymnasium.farama.org/environments/classic_control/cart_pole/](https://gymnasium.farama.org/environments/classic_control/cart_pole/)\n",
    "\n",
    "![Cartpole](https://cdn-images-1.medium.com/max/1143/1*h4WTQNVIsvMXJTCpXm_TAw.gif)\n",
    "\n",
    "Note: vectorized environments allow to easily multiprocess training. In this example, we are using only one process, hence the DummyVecEnv.\n",
    "\n",
    "We chose the MlpPolicy because input of CartPole is a feature vector, not images.\n",
    "\n",
    "The type of action to use (discrete/continuous) will be automatically deduced from the environment action space\n",
    "\n",
    "\n",
    "Here we are using the [Proximal Policy Optimization](https://stable-baselines.readthedocs.io/en/master/modules/ppo2.html) algorithm, which is an Actor-Critic method: it uses a value function to improve the policy gradient descent (by reducing the variance).\n",
    "\n",
    "It combines ideas from [A2C](https://stable-baselines.readthedocs.io/en/master/modules/a2c.html) (having multiple workers and using an entropy bonus for exploration) and [TRPO](https://stable-baselines.readthedocs.io/en/master/modules/trpo.html) (it uses a trust region to improve stability and avoid catastrophic drops in performance).\n",
    "\n",
    "PPO is an on-policy algorithm, which means that the trajectories used to update the networks must be collected using the latest policy.\n",
    "It is usually less sample efficient than off-policy alorithms like [DQN](https://stable-baselines.readthedocs.io/en/master/modules/dqn.html), [SAC](https://stable-baselines.readthedocs.io/en/master/modules/sac.html) or [TD3](https://stable-baselines.readthedocs.io/en/master/modules/td3.html), but is much faster regarding wall-clock time.\n"
   ]
  },
  {
   "cell_type": "code",
   "execution_count": 7,
   "metadata": {
    "colab": {},
    "colab_type": "code",
    "id": "pUWGZp3i9wyf"
   },
   "outputs": [
    {
     "name": "stderr",
     "output_type": "stream",
     "text": [
      "/home/lisca/biomec/install/a202406/envs/ob-rl-ai/lib/python3.10/site-packages/stable_baselines3/common/on_policy_algorithm.py:150: UserWarning: You are trying to run PPO on the GPU, but it is primarily intended to run on the CPU when not using a CNN policy (you are using ActorCriticPolicy which should be a MlpPolicy). See https://github.com/DLR-RM/stable-baselines3/issues/1245 for more info. You can pass `device='cpu'` or `export CUDA_VISIBLE_DEVICES=` to force using the CPU.Note: The model will train, but the GPU utilization will be poor and the training might take longer than on CPU.\n",
      "  warnings.warn(\n"
     ]
    }
   ],
   "source": [
    "# env = gym.make(\"CartPole-v1\", render_mode=\"rgb_array\")\n",
    "env = gym.make(\"MyoElbow1Dof6MuscStativ-v2\", render_mode=\"rgb_array\")\n",
    "\n",
    "model = PPO(MlpPolicy, env, verbose=0)"
   ]
  },
  {
   "cell_type": "markdown",
   "metadata": {
    "colab_type": "text",
    "id": "4efFdrQ7MBvl"
   },
   "source": [
    "We create a helper function to evaluate the agent:"
   ]
  },
  {
   "cell_type": "code",
   "execution_count": 8,
   "metadata": {
    "colab": {},
    "colab_type": "code",
    "id": "63M8mSKR-6Zt"
   },
   "outputs": [],
   "source": [
    "def evaluate(model, num_episodes=100, deterministic=True):\n",
    "    \"\"\"\n",
    "    Evaluate a RL agent\n",
    "    :param model: (BaseRLModel object) the RL Agent\n",
    "    :param num_episodes: (int) number of episodes to evaluate it\n",
    "    :return: (float) Mean reward for the last num_episodes\n",
    "    \"\"\"\n",
    "    # This function will only work for a single Environment\n",
    "    vec_env = model.get_env()\n",
    "    all_episode_rewards = []\n",
    "    for i in range(num_episodes):\n",
    "        episode_rewards = []\n",
    "        done = False\n",
    "        obs = vec_env.reset()\n",
    "        while not done:\n",
    "            # _states are only useful when using LSTM policies\n",
    "            action, _states = model.predict(obs, deterministic=deterministic)\n",
    "            # here, action, rewards and dones are arrays\n",
    "            # because we are using vectorized env\n",
    "            # also note that the step only returns a 4-tuple, as the env that is returned\n",
    "            # by model.get_env() is an sb3 vecenv that wraps the >v0.26 API\n",
    "            obs, reward, done, info = vec_env.step(action)\n",
    "            episode_rewards.append(reward)\n",
    "\n",
    "        all_episode_rewards.append(sum(episode_rewards))\n",
    "\n",
    "    mean_episode_reward = np.mean(all_episode_rewards)\n",
    "    print(\"Mean reward:\", mean_episode_reward, \"Num episodes:\", num_episodes)\n",
    "\n",
    "    return mean_episode_reward"
   ]
  },
  {
   "cell_type": "markdown",
   "metadata": {
    "colab_type": "text",
    "id": "6hkyafs--gJz"
   },
   "source": [
    "In fact, Stable-Baselines3 already provides you with that helper:"
   ]
  },
  {
   "cell_type": "code",
   "execution_count": 9,
   "metadata": {
    "colab": {},
    "colab_type": "code",
    "id": "s6ZNldIR-fce"
   },
   "outputs": [],
   "source": [
    "from stable_baselines3.common.evaluation import evaluate_policy"
   ]
  },
  {
   "cell_type": "markdown",
   "metadata": {
    "colab_type": "text",
    "id": "zjEVOIY8NVeK"
   },
   "source": [
    "Let's evaluate the un-trained agent, this should be a random agent."
   ]
  },
  {
   "cell_type": "code",
   "execution_count": 10,
   "metadata": {
    "colab": {
     "base_uri": "https://localhost:8080/",
     "height": 35
    },
    "colab_type": "code",
    "id": "xDHLMA6NFk95",
    "outputId": "a7115c9f-1076-48a2-a78b-61d387609c5f"
   },
   "outputs": [
    {
     "name": "stderr",
     "output_type": "stream",
     "text": [
      "/home/lisca/biomec/install/a202406/envs/ob-rl-ai/lib/python3.10/site-packages/stable_baselines3/common/evaluation.py:67: UserWarning: Evaluation environment is not wrapped with a ``Monitor`` wrapper. This may result in reporting modified episode lengths and rewards, if other wrappers happen to modify these. Consider wrapping environment first with ``Monitor`` wrapper.\n",
      "  warnings.warn(\n"
     ]
    },
    {
     "name": "stdout",
     "output_type": "stream",
     "text": [
      "mean_reward:100.00 +/- 0.00\n"
     ]
    }
   ],
   "source": [
    "# Use a separate environement for evaluation\n",
    "\n",
    "# eval_env = gym.make(\"CartPole-v1\", render_mode=\"rgb_array\")\n",
    "eval_env = gym.make(\"MyoElbow1Dof6MuscStativ-v2\", render_mode=\"rgb_array\")\n",
    "\n",
    "# Random Agent, before training\n",
    "mean_reward, std_reward = evaluate_policy(model, eval_env, n_eval_episodes=100)\n",
    "\n",
    "print(f\"mean_reward:{mean_reward:.2f} +/- {std_reward:.2f}\")"
   ]
  },
  {
   "cell_type": "markdown",
   "metadata": {
    "colab_type": "text",
    "id": "r5UoXTZPNdFE"
   },
   "source": [
    "## Train the agent and evaluate it"
   ]
  },
  {
   "cell_type": "code",
   "execution_count": 11,
   "metadata": {
    "colab": {
     "base_uri": "https://localhost:8080/",
     "height": 35
    },
    "colab_type": "code",
    "id": "e4cfSXIB-pTF",
    "outputId": "8f6fe592-df0a-4731-f447-b7c059b4f500"
   },
   "outputs": [
    {
     "data": {
      "text/plain": [
       "<stable_baselines3.ppo.ppo.PPO at 0x7bc6936d15d0>"
      ]
     },
     "execution_count": 11,
     "metadata": {},
     "output_type": "execute_result"
    }
   ],
   "source": [
    "# Train the agent for 10000 steps\n",
    "model.learn(total_timesteps=10_000)"
   ]
  },
  {
   "cell_type": "code",
   "execution_count": 12,
   "metadata": {
    "colab": {
     "base_uri": "https://localhost:8080/",
     "height": 35
    },
    "colab_type": "code",
    "id": "ygl_gVmV_QP7",
    "outputId": "e2e2a301-bfea-48a4-c046-2912d9a90124"
   },
   "outputs": [
    {
     "name": "stdout",
     "output_type": "stream",
     "text": [
      "mean_reward:100.00 +/- 0.01\n"
     ]
    }
   ],
   "source": [
    "# Evaluate the trained agent\n",
    "mean_reward, std_reward = evaluate_policy(model, eval_env, n_eval_episodes=100)\n",
    "\n",
    "print(f\"mean_reward:{mean_reward:.2f} +/- {std_reward:.2f}\")"
   ]
  },
  {
   "cell_type": "markdown",
   "metadata": {
    "colab_type": "text",
    "id": "A00W6yY3NkHG"
   },
   "source": [
    "Apparently the training went well, the mean reward increased a lot ! "
   ]
  },
  {
   "cell_type": "markdown",
   "metadata": {
    "colab_type": "text",
    "id": "xVm9QPNVwKXN"
   },
   "source": [
    "### Prepare video recording"
   ]
  },
  {
   "cell_type": "code",
   "execution_count": 13,
   "metadata": {
    "colab": {},
    "colab_type": "code",
    "id": "MPyfQxD5z26J"
   },
   "outputs": [
    {
     "name": "stderr",
     "output_type": "stream",
     "text": [
      "sh: 1: Xvfb: not found\n"
     ]
    }
   ],
   "source": [
    "# Set up fake display; otherwise rendering will fail\n",
    "import os\n",
    "os.system(\"Xvfb :1 -screen 0 1024x768x24 &\")\n",
    "os.environ['DISPLAY'] = ':1'"
   ]
  },
  {
   "cell_type": "code",
   "execution_count": 14,
   "metadata": {
    "colab": {},
    "colab_type": "code",
    "id": "SLzXxO8VMD6N"
   },
   "outputs": [],
   "source": [
    "import base64\n",
    "from pathlib import Path\n",
    "\n",
    "from IPython import display as ipythondisplay\n",
    "\n",
    "\n",
    "def show_videos(video_path=\"\", prefix=\"\"):\n",
    "    \"\"\"\n",
    "    Taken from https://github.com/eleurent/highway-env\n",
    "\n",
    "    :param video_path: (str) Path to the folder containing videos\n",
    "    :param prefix: (str) Filter the video, showing only the only starting with this prefix\n",
    "    \"\"\"\n",
    "    html = []\n",
    "    for mp4 in Path(video_path).glob(\"{}*.mp4\".format(prefix)):\n",
    "        video_b64 = base64.b64encode(mp4.read_bytes())\n",
    "        html.append(\n",
    "            \"\"\"<video alt=\"{}\" autoplay \n",
    "                    loop controls style=\"height: 400px;\">\n",
    "                    <source src=\"data:video/mp4;base64,{}\" type=\"video/mp4\" />\n",
    "                </video>\"\"\".format(\n",
    "                mp4, video_b64.decode(\"ascii\")\n",
    "            )\n",
    "        )\n",
    "    ipythondisplay.display(ipythondisplay.HTML(data=\"<br>\".join(html)))"
   ]
  },
  {
   "cell_type": "markdown",
   "metadata": {
    "colab_type": "text",
    "id": "LTRNUfulOGaF"
   },
   "source": [
    "We will record a video using the [VecVideoRecorder](https://stable-baselines.readthedocs.io/en/master/guide/vec_envs.html#vecvideorecorder) wrapper, you will learn about those wrapper in the next notebook."
   ]
  },
  {
   "cell_type": "code",
   "execution_count": 15,
   "metadata": {
    "colab": {},
    "colab_type": "code",
    "id": "Trag9dQpOIhx"
   },
   "outputs": [],
   "source": [
    "from stable_baselines3.common.vec_env import VecVideoRecorder, DummyVecEnv\n",
    "\n",
    "\n",
    "def record_video(env_id, model, video_length=500, prefix=\"\", video_folder=\"videos/\"):\n",
    "    \"\"\"\n",
    "    :param env_id: (str)\n",
    "    :param model: (RL model)\n",
    "    :param video_length: (int)\n",
    "    :param prefix: (str)\n",
    "    :param video_folder: (str)\n",
    "    \"\"\"\n",
    "    # eval_env = DummyVecEnv([lambda: gym.make(\"CartPole-v1\", render_mode=\"rgb_array\")])\n",
    "\n",
    "    eval_env = DummyVecEnv([lambda: gym.make(\"MyoElbow1Dof6MuscStativ-v2\", render_mode=\"rgb_array\")])\n",
    "    \n",
    "    # Start the video at step=0 and record 500 steps\n",
    "    eval_env = VecVideoRecorder(\n",
    "        eval_env,\n",
    "        video_folder=video_folder,\n",
    "        record_video_trigger=lambda step: step == 0,\n",
    "        video_length=video_length,\n",
    "        name_prefix=prefix,\n",
    "    )\n",
    "\n",
    "    obs = eval_env.reset()\n",
    "    for _ in range(video_length):\n",
    "        action, _ = model.predict(obs)\n",
    "        obs, _, _, _ = eval_env.step(action)\n",
    "\n",
    "    # Close the video recorder\n",
    "    eval_env.close()"
   ]
  },
  {
   "cell_type": "markdown",
   "metadata": {
    "colab_type": "text",
    "id": "KOObbeu5MMlR"
   },
   "source": [
    "### Visualize trained agent\n",
    "\n"
   ]
  },
  {
   "cell_type": "code",
   "execution_count": 16,
   "metadata": {
    "colab": {
     "base_uri": "https://localhost:8080/",
     "height": 35
    },
    "colab_type": "code",
    "id": "iATu7AiyMQW2",
    "outputId": "7a1ffe06-b8c5-42e5-b075-1b04b98c017e"
   },
   "outputs": [
    {
     "name": "stdout",
     "output_type": "stream",
     "text": [
      "Saving video to /home/lisca/biomec/src/ob-rl-ai/videos/ppo-cartpole-step-0-to-step-500.mp4\n",
      "MoviePy - Building video /home/lisca/biomec/src/ob-rl-ai/videos/ppo-cartpole-step-0-to-step-500.mp4.\n",
      "MoviePy - Writing video /home/lisca/biomec/src/ob-rl-ai/videos/ppo-cartpole-step-0-to-step-500.mp4\n",
      "\n"
     ]
    },
    {
     "name": "stderr",
     "output_type": "stream",
     "text": [
      "                                                                                                                                                                                      "
     ]
    },
    {
     "name": "stdout",
     "output_type": "stream",
     "text": [
      "MoviePy - Done !\n",
      "MoviePy - video ready /home/lisca/biomec/src/ob-rl-ai/videos/ppo-cartpole-step-0-to-step-500.mp4\n"
     ]
    },
    {
     "name": "stderr",
     "output_type": "stream",
     "text": []
    }
   ],
   "source": [
    "# record_video(\"CartPole-v1\", model, video_length=500, prefix=\"ppo-cartpole\")\n",
    "\n",
    "record_video(\"MyoElbow1Dof6MuscStativ-v2\", model, video_length=500, prefix=\"ppo-cartpole\")"
   ]
  },
  {
   "cell_type": "code",
   "execution_count": 17,
   "metadata": {
    "colab": {},
    "colab_type": "code",
    "id": "-n4i-fW3NojZ"
   },
   "outputs": [
    {
     "data": {
      "text/html": [
       "<video alt=\"videos/ppo-cartpole-step-0-to-step-500.mp4\" autoplay \n",
       "                    loop controls style=\"height: 400px;\">\n",
       "                    <source src=\"data:video/mp4;base64,AAAAIGZ0eXBpc29tAAACAGlzb21pc28yYXZjMW1wNDEAAAAIZnJlZQAAkGRtZGF0AAACrwYF//+r3EXpvebZSLeWLNgg2SPu73gyNjQgLSBjb3JlIDE1OSByMjk5MSAxNzcxYjU1IC0gSC4yNjQvTVBFRy00IEFWQyBjb2RlYyAtIENvcHlsZWZ0IDIwMDMtMjAxOSAtIGh0dHA6Ly93d3cudmlkZW9sYW4ub3JnL3gyNjQuaHRtbCAtIG9wdGlvbnM6IGNhYmFjPTEgcmVmPTMgZGVibG9jaz0xOjA6MCBhbmFseXNlPTB4MzoweDExMyBtZT1oZXggc3VibWU9NyBwc3k9MSBwc3lfcmQ9MS4wMDowLjAwIG1peGVkX3JlZj0xIG1lX3JhbmdlPTE2IGNocm9tYV9tZT0xIHRyZWxsaXM9MSA4eDhkY3Q9MSBjcW09MCBkZWFkem9uZT0yMSwxMSBmYXN0X3Bza2lwPTEgY2hyb21hX3FwX29mZnNldD0tMiB0aHJlYWRzPTE1IGxvb2thaGVhZF90aHJlYWRzPTIgc2xpY2VkX3RocmVhZHM9MCBucj0wIGRlY2ltYXRlPTEgaW50ZXJsYWNlZD0wIGJsdXJheV9jb21wYXQ9MCBjb25zdHJhaW5lZF9pbnRyYT0wIGJmcmFtZXM9MyBiX3B5cmFtaWQ9MiBiX2FkYXB0PTEgYl9iaWFzPTAgZGlyZWN0PTEgd2VpZ2h0Yj0xIG9wZW5fZ29wPTAgd2VpZ2h0cD0yIGtleWludD0yNTAga2V5aW50X21pbj0yNSBzY2VuZWN1dD00MCBpbnRyYV9yZWZyZXNoPTAgcmNfbG9va2FoZWFkPTQwIHJjPWNyZiBtYnRyZWU9MSBjcmY9MjMuMCBxY29tcD0wLjYwIHFwbWluPTAgcXBtYXg9NjkgcXBzdGVwPTQgaXBfcmF0aW89MS40MCBhcT0xOjEuMDAAgAAADK1liIQAb/70oPgU0GJjysxWvdiImDlA4OycM4kuhQAAAwAAAwKCEGXwaDKzwmAAAPcAEMGlTdWFvehRIC//IaOB2uQH8UvNe/Hil3XNc/D6yC6v9hONH4pnCT/hYzLKDX1F85Wbrt4mVRRxCPtnqAzNJze1ZFlsPy8MtlNlMH+RXUUJfASPwzpGlNvJHtO8EYDozo/6kSREKm8P9OPfScIZ8BCu3pxhtbpB2kyBebcNHZwWhCYU42IyJ5yDFafNrc7TmpWUT2OKLPV0WdQbIvXZicAtqdXdEkrwHt0dyEeR5RF110K8aANoFgcYwqjbZt5tKW4pf7FNEoPsjWsZPfuiHooe4wDi8XFh0JdqwABnpWhbJ+oRu0fRyqGIokJWg/aPyiZbAzFQ+zDTVcboAgk1UJaeRog03IaDsmQQZEQgsX70CbvxbTggBVvpPLhzDk8Axgi5Ae7jdCcXE55Oc3n9xZeRlq8xuSc8wJohxH8MNunNCNDkx5b65NzMtL11wTKX2McN27pwZ7rZvNV+E/7L/hjRkanY8JnvsE5ICf+jZfp8ypv8As7005XMhreJNAactkkm6wB55qu7BZER6v89cDDOuVky7NOChikJA1XkNgyY9ecnRPUn1uwPkQHKWEP8avqpryXg/w4fxSsZ+P3pBVDm1+EQIu7zyA1p5Ge7GV7a2LgGmChs+hj96hX7NsHSnUbue2v/dfxvPbQbbiYAAiXWYiUsPdv0HWOviC9aZcgBnn3ErOP4/c2tu/jXn9mfb8BJIyfDwboCbq6GzupqrmPD+S19qdiKeH7J/gV9HHdvU2HJxMgIMcTNhGoaJb4sucR8OPaRVXBJAv7HAfxU9YzSGyT0p3fR7/S3iFbsfcF6O9J6KRd+Md0zQwFGa6lJvW5Y0kTrj21tW8DgAAADAOKBOAmcKlfukNpsvN66gzGnrra5PmQlxvsJaIB5hyO2g01NFvr4WzBg9/fUTZ+nayop60AMLfsEhKb9gl4BqDqDe2lyQo/xbgUaEry3zyawRUmVR/Ax3MMLp4UdlJ+OzWV4HYQAQqkZY9383Sfy6uW7g5hSkndNUprD1eqtYSrGWLNRWlD5DvXROTUSwI3E5jhJytRjzwOQOhqzq6be5oEY15iLLtr63/xEYIOfhQf06FuYKjHcQO2aW/F5Wmh/aCMLvGfDVJcIxWBtQWl62FgQvEvvuuNqpmucLYeQBMJCpNyQJFNeaZtTdaq2DIkfn8mhqv1dKu/jYgPBLYohGqOAyky8R5yLbihdB6MZLCS1mH7tdW/OEWuVKSmRWOb6MBIa0533nsA2duQES0lHt4JKrkVzXiQRFPnRT+eSFykRC/RuW9iwbz4nNeLfGQKZA2Aey9eiDw3HbQDjuXVa4keD1FR1OedObqBg0DwBHOZkCGfPeapRs5vsHAs1y0I36P1w4GPjGY/XocopNSUkh5tSsO4wtuu7BXhnZyyCjksBBKelopye08QeYJlvnBZ4rEJeLfNy5wr2bDGAepNLh4RLT8PDQG4zIL1ZTmRczZBLL8yQ0D1POn+xZjfxKD26WS7VZC1pefkx7oAAPAr6CFAPj8o/AAeG2nW/T+4cZuIzcla7MI/71GQTgu6YmRbWPhhOdP/KqUD/STWbQB6ZOf7GK3Ng3pF0IdET/XvbVf+cgK3GX9tPARiynOuoJ30XqzyU7JFcgl/QiVVcBp/YF8GYGxNA32qryKNHXwjnGEagRBGpaaC/8ulONqxzT9f9VnCzJ/ijME5YmFGs6qfxQUgm8R3eOeEpUopkF+VJmCKKc9buMfE+pBmhmD/X58vK2oIEfOXIUgbptviF1Eu6T3Mbhxf6rcfAWHPrhjrs5GV6zXTMI/oTUsxoeIPSAOh1zYivMOtg3yerhgLmtMJgqa9iaEzQFnni8upSc5UYbORiXb8VcC+Egb024dszBYKMFXA88wumxynsgCaI+Je6px9uMxlQN+Zy1g0zvpm73uYk4IO5+V+KKWHG4J64vr5LDT/hQ6jwgGjjTtpAfG6Shx9CWWwVucW+gD2uahCj4AANdmaRleYJWf6xfYbgpoTSgM3N7wyOb+M1NKbCTn5BdwyoGNKnNZ9AcxItZ2RxbFolx0DdbRvxMt9HojbTS5csR+mdVQR3Y1k40BsVekOksi7nT5dadIyOWMabVmPj41ePQwjy8OQRZnX3S22nTLjWwnhnOacKuqu3YyK43FMW3MmopL1ypFUVt/X0y3PqkDyTOY/rVHaumC8TBKcH4ek8OdUrwYuNoOo2mgjO7zv82Tj9aOFE3ycxq3iDnXxJZ8c0LPw46wLmxwR0QdBVlreaUtnoeI4MLD8yN46x8QqKairKfEAFjCHO7UZzeHzesYVyMFwH4ZGtZ8TR+ErU8FMepGhSbqprOYA8OJPNEchiUBq/7wQigB9uv24ojyelAHNkdSiPnz/8nsBDgAaC3Q3T6rAsRa1eDI/Ox4RE5ZRMkQ7r93hMdQnHEWGrbofekXmwivRaSQn6XEs86Nmhk3TkrX37YxR0VOOenevP2hNvB5uYlIlE4B50NNYWVjmIakNTn7/1t87DZwjEC4h5sqg2IBipxkXe5Ha07w+AYpFZa2RqhaIyaUCgIkEr3agNF7vmqRELz5TOIht39KGVdhO+1MMio8YchoUXsG/ZF6g3iwrAUtT5qqXJB0NZEcD30v5CzmfzGjetNZ461dpTN44CRUZrvDnEPPkEtj/oRKoq3ZTZ4djsBKg1NOJoSrIy5FOyYBwhjsjcmzBOnV13tRdeiLGBMWCp7n35zumrrRAgCAw97vPy80lXk8w9G/vBtdyIluQr8DjE1qbYrdA+ktpoxukqys3hdOlGVquAKj5Wj81JQTTGZrtaY74wrK/qyxInfefO3Px1GNbaQ91wlJ6em+0/OZvgq8zKs0efEe9z3Ngmt7fcUmUzFSRmCUjmStCYCmMtUgfR+dOAPhCI2XHCQAAD4Y/v/3OvUlX0Vqs4m7DX2olNLYUcdumwUmTx4+5GOAQqGpmcnlpKDerv55im0SybnJXDq8vbEwqg9vHI6kR8x2AynzGsocAS3XN4SrbG0fgycle61d+II9+RkKRNIiGuwpz7+mhujKMuUTaBmFsQz7lSbS8NIi/P8e+TamWbo6ynZx4uucUItKORv9LG4XBurReBmzgsuunD5r1s2TpX1wpge867+WbIMoPanMD2j6M4ByMWtX3plbBjKoS50v/ArsLPkjMacVYlLpeuM90bKvP0kd6nYhzKo+mgEE+kxiRTEiFZXtOwdUOnrE1fNIrNkRM/h//84bURxoQN5ZGvrU6LQR7ksgqrTt41kretfCOzs9xdvJYXF8NwLU4QFCM04SuYrBZRAbVyhghLSeWsnHaz6dGUpm07sy7nsCAhGk8hWab7R+llnsar5f/bQv80Bb0RcGhykdzJvzgUPcG0mvahEuIuDJ/R5GcaP/erxDsVl/ZIGTw1zlVWCT/48bwhTM1hdvEp9lAmbbsuk3faUNC1e9DW+UA+5xpUgBf/gwwTXC/63hE/DqZ8GRWdWINthBCmCKZJvPwY6+nVsnZXtNdcjxCQuEZnfeUGjKHGxSZRkzUlipBKXhscQett2CDMW5XxcimednivD22l4FBZ9w8hcMm+8CcowWvkAK4g+O0KJDdkUhzhVjMZnuzmnsfJr/tQ+H4SgN/gkxLfGCrTzeS3d9W2VgPuMrgjSNRBTkM0mFJm/aorx+rxEmJgoSTvTan+Uc3AxotPXk+nC0LNIFqz5jruKPddDQxBVBxkAa7emAO/KIxRTKEu1zD6OyRTrItU/I1Vkz+eQOMkpUaMY4hia8TC/V6h5/v+QIInr6UHSNtoxp4mqMqfDAEFoPY+A4Qs8kd8n+6NLdQt+FV55TjfyoUwk6LwtQ0pqCfFMlEHfJ7p+P4PaY2khZzWvm3Iw5FeflGlVSwNQV0c4IcEKEE+33bwKF4kc5NjPAXW/R4o6FuUEsgk426tM0iexEBWzYohWeTwXtgsvH96w8J5DSlfjL3LQIOX9IAI09DGD0NUeIRRv6rj6C/9xuXk2BJz1lBf+yaMw5TauBETF6/+zrvNvBvxUsyiQ9gHYuVqUQdNZUrvlxGn1SDRj0yzN8A/u0HOCEF4iT4QLy7I6iTB3+NUqgc4rXsbH5kZDlJoAaNjif6iV+lAMBagiNti1znISZ3/0czPoUlHV5m5wYwDEuw6g4oPcWbJk2azAkNK+VwDIIcL7WC1sBAUQgxSqaPuQ2PO2bUU6bpBe68lqMy6W2abnpFRG54wCsquVFeb817VHWZ/0YOAMUepSsBzgAAAAwAAAwAAAwAxYQAAALdBmiRsRv/6WAACIFO8AvRT4Sap/3RfV2ME5XItPiyCqX9SaRY/lFY5fSyIXb3/UAkmEynkRdaToieHQM6gfVRo25SYl1a32DpPZu9Yc5bmYg0gqnn42Uxycp48kupX6sTOENCKO5A7iiQVtecOfk/broy0kPHvSFtQtu8g5ow25H+Oao6+yH2V7ctjmQ7M4kyet6X6wT8c9HMEduMupUsVOnbPHNbf/LWr7vsoD/3bvXLkESMwJeAAAAAvQZ5CeI3/AAAmw9bhnmV18U/AAP2QdRQP4f3hlcylcFsOkF16ySYrA0v1H/sA4IEAAAAnAZ5hdEX/AAAWsUTYgA2HeV6ejwqIXBR3FwSrDpdWJe6oQHJ7YCNgAAAAKQGeY2pF/wAAMSJ5GpCb3jABnQ1XjgB71E4+m3WmFgv1yC1Wg/NdKAVtAAAA0UGaaEmoQWiZTAjf+lgAAA0HmJO4SbwAS10nkP7wf21ciTGgALE8+5+l6R9NDxFPgM0M7tGsDfIChZpnoDw6ynhp6SlQI5+tFOaPUDuU7ld46ddqRBKtkIhafeCEpFpHAG1lMc7ktCcVs2uBqcWM3mxX7StGMjz4Dhpoc5w0+Dsp3Hb56oUt5xUh9OOJwue3mFX3/zvqYzAEANjVYbJRqHh/BpKIbSP1lPlvV9oQBK1iJUJxQ51XizBVJ/jh00P4f0mn+8Co1TK5Lvc/vuIB8DphAAAAOkGehkURLG8AACbEffttj1uNwIQAkLAdGptBR53uL1yKA//rAcArO8HfOzvcIHkBTnPpP8ifB5awDgkAAAAoAZ6ldEX/AAAw72RxYox4HQAg73SJ4FTsfDwS3G59IQy7p2nkQiAY0QAAABABnqdqRf8AADESNTkY+gaMAAAAwkGarEmoQWyZTAhP//3xAAADAit46zcB+lb9Yc3vZoRkcnedIgd/bzawqwycjMKZ46z1ma4+9Oc9I9bvAkQrvOndDXfjK9vYRsUfoC7WvsaWfLt0B/hdvg9NX5cnV1VhGgxibnEcjBzmSQ2M0APT6jIKPNsoyQ62SWgf8h6NQEGc5EH70NhDs9n1pIE7AmFL+4lrd0dQv1cL8xM8e+hMwFwxpXB5ZD/LzacU58YuDNcWcQeGumujeWk5+Ywlh0recDegAAAALkGeykUVLG8AACZHofsdZWj1wAPm5YuZGCTm/80hkqHBx0YGHM0TsPUOHpcAY8EAAAARAZ7pdEX/AAAwcdqyR8UkAVcAAAAWAZ7rakX/AAAwcdkW/OcMa7oRS5gFJAAAAINBmvBJqEFsmUwIT//98QAAAwEO9/4TmABWDw0GloCIYe6ru1mmBAFYcuzntkXpbkOkT+UNEZVVsH7ucfjjq3I4mORGPKPtwmXU81jOXrwIGwrmL+2AZbOzAcPx9QUV8fK5p4anum/E2CtC+kUZNBDExQb+19Pxk/6kxuVx0XlcpiIZ8QAAABZBnw5FFSxvAAAltY6eDQbH3OPLyB6RAAAAEQGfLXRF/wAAL69mYH6YYBQRAAAAEQGfL2pF/wAAFrGNEpIKgCZgAAAATkGbNEmoQWyZTAhP//3xAAADAj3v+VPNMYgnePdrAAOHWwf6Z2vnzTOc8roQfTjCoTl4+RVUBgQnXkgVnurDq6uAfayoTV2FUhPfz9mBLwAAABFBn1JFFSxvAAASVzmroUAK2QAAABIBn3F0Rf8AAC+vZmD4cv4wLOAAAAAQAZ9zakX/AAAwcde0ZAAr4AAAAE9Bm3hJqEFsmUwIT//98QAAAwEFD9EgBuWNOWcGcdVyRsQdqODZXb74ItqINpxi5zac8SsNlGPO0kqv4FEaBkjBqQVC4F477bA8BEsmQBFxAAAAEUGflkUVLG8AABJfTe9UCAaMAAAADgGftXRF/wAAFh4BAAb1AAAADgGft2pF/wAAF1Os1AHpAAAAaUGbvEmoQWyZTAhP//3xAAADAj3wDedvJ1YwAAs7v13AN8iDTrdQQ8QjU9CtMD0+YWY6tsO7ryJqgmBsMpcxzvOKgi9muvq1ljj3lC6f+IUb3DpGBz8+hVfaqQaEGVthJi7JOQK4cuQC2gAAABNBn9pFFSxvAAASYjvb3zQcQEHBAAAADwGf+XRF/wAAFwLtKAAq4AAAAA8Bn/tqRf8AABcC7SgAKuEAAAB8QZv/SahBbJlMCE///fEAAAMBDvf+vGjoAOPZ/wsHyKMWnB8QW5mxmMZ7ZcvE2moizohTuFs2bPk/n2PybU92i/gj2RisS8jmX32XOklpLNq63Boz4AsTzxrobq8jAc0KQxkWWYhWuNOhHro/6+mRVB3VQOcsdrM31OwGLQAAABJBnh1FFSxfAAAxEkDkWJAAFXAAAAAOAZ4+akX/AAAxEjIABlQAAACZQZojSahBbJlMCE///fEAAAMCPfANpPFDlYAbwLHEoFzXvlfJP8TAfU5r5gg2/QQqBtoqDQmH2DDY/fr0q4jpchOPH+UpL115gGEY1iJqg1IzlqbqE1jBDalAHDhEfTW1hntTkIoPBYBis9OgpiMHXA27UUrx2bMoan8AKLwBP1F32jlY7Tiz0AAQ0JY+sKhNQpB2DQSR0BQxAAAAJEGeQUUVLG8AACZHozyTviggBLmRzB3mOjb7g0oc/zCKpAASMAAAABEBnmB0Rf8AADBx2rJHxSQBVwAAABEBnmJqRf8AADBx2nzKCEBUwAAAAIJBmmdJqEFsmUwIT//98QAAAwEFG1nABwLQqIIHKhjrXzi1eK7EZYMeY2iYJH3jUlVW8WtYm3mnDLR+yUg1mBpD2Bo7BnT5oY9dr9nz5eC3zEFv1fY8XNKsEUDmaSGMu88odnJX74uwvYpiij7akAyWiOQL9ZU7aaDNPqmW+DGtfAHHAAAAEUGehUUVLG8AAAfub3g65QGBAAAADQGepHRF/wAAAwAACXkAAAAOAZ6makX/AAAWsfIADZkAAABRQZqrSahBbJlMCEf//eEAAAMDjejfnfovYkAHEjo2Ngbst+i1CIgmnugVlK+pODDd12QCsoFWL1/u9K6meO5BiizNXvCYph3UNLPHC77p4AQ8AAAADkGeyUUVLG8AAAMAAAd0AAAADwGe6HRF/wAAFr97S0AL2QAAAA4BnupqRf8AABa87BAEjAAAAHZBmu9JqEFsmUwIR//94QAAAwGx9GCpPDI6AFsuncA5gs/5suJEnHUjcGGcQ8wwpoEeK2xM35FgjwRRuSzyskIPydX8zviZpRl34Ju90pccq3vNGJL13PyByLjR+++UVAjqu2yobOn6YFT10wPlSkA4vxSkDgOmAAAAHEGfDUUVLG8AAAg200AC3nZQgISBsAAGhC3AJOEAAAARAZ8sdEX/AAAwcdquR4hAKCEAAAARAZ8uakX/AAAWLPFCNwpAY8EAAABwQZswSahBbJlMCEf//eEAAAMBpVlQwAWxfb96gW5qq69TCLwuqxxiYW7PqWIdfS3Y5bpNHNobVTn8hQfuP9XLyVcmiO5izBmCAx7B4Gkm9jU0l9r4V/z1g6FwLfrKVlNuG9jJPZDdZFgL/Jab7IQBFwAAAHhBm1JJ4QpSZTBRUsf//IQAAAZwkIigAfhmHOcyh9iOVABclqKTqmDnYVzMGxK4WDoLrkMM6bYzRRmqyQdUT7icJAgX1jcC5zvR6jODKPbf45Vh31Zam5KbTAdgbM9Jz4yekSNlOTCOobHPUtSFihwbBv2WYNMAEnAAAAAOAZ9xakX/AAAKOPkADukAAAB5QZt0SeEOiZTBRMf//IQAAAZ0QffQAisVEWyjqRun7bI94K/C7dgJewVapKe+EaHzMVo33fS0wau22GUycaya5WwcitkhuAk9pLMAm/ejpzGqtO3A/x5SyP6/FoW7TSTK41PEos6P7H9Va8VAhcba+k38HHCR/kAsoAAAABABn5NqRf8AADBx2A0GgAr4AAAAckGblUnhDyZTAjf/+lgAABsya2gnIjkALBkVbC/8acpXkzYtQT+mGaqifhZPn4tQXMK7Rg729unFDACXk8aMgW1NEYx2jGATxh50nFuoyx6SE/iyW0lsnTd05ORDFtrWZkvbZCb0FmYbkqn/5hbmkLgGFQAAAKVBm7lJ4Q8mUwI3//pYAAAbI4PwS6ZvyLcKxtT20wVdXt2SdgdwdzOkra4rPGmkPDSQO2ewJlgEwg8zfs8RHhBmAtv+ZlN3ej5UijDDpONniZKIVSwMaUmBlBfAyWWdgvdM/SMI28ddbKQGxxxmzXa+kdAE7GiAnyvGiy1MD/UcfSrDbE+AqiRizjPhZBu/T0kd4aU7o/kpL3U/h1rig8xbsV8ZAVUAAAA1QZ/XRRE8bwAAJsL8+kMaMpKsADt7Kd1f781AE4HGi5anz2bqXFGJ5uLP0E8Fyd+Voj4Ab0EAAAASAZ/2dEX/AAAxGLJU9ThiwBMxAAAAIAGf+GpF/wAAMRIDd6JEAEPz1FlyPdgySwd//4zbgFJAAAAAr0Gb/UmoQWiZTAjf+lgAABsynfLQB7TYJYuzgpW2Fr0x6Ffq3J9ckaIn5QEI0NSXyKTwg6WjrWzZ7U4M7iFsp7NnTLxvZUUe28CbnmsCXMlkwW+LOsn35rl6Z/GSAxDAo9DQDQ4BjF3ITQQSVrTs53uT/BJ0fP6PnZaKZCdkFGLTuXvhLQ23uNNJhfsi/Dn7uSqruQY8R7O+ZSw1ES+OdBDp0bkJyM2Xd+yvDaAAGfEAAABFQZ4bRREsbwAAJspUS0AHLfCHvp0ij51C0QcnH3DmHCoZC0eocPof6F3qjBKdmYp5yy2gY7WdLFG+7E0RgxHeh+n1YDMgAAAAHAGeOnRF/wAAL69lWpaAEKDEknZim6lYt7kAJGEAAAAgAZ48akX/AAAv+BsADh3Edx8Y8FjmU3itdVcv9uQAx4EAAADJQZohSahBbJlMCEf//eEAAAMDidPPkkAg2scHPz4H1eX8vcUvjZsGLB7e9ji9zzQpw1RFmjUtT1uofwq3IM63n4fWtTV9qJzFQI5kxZnRnU97Zqa3FlHBg55lb/Qm6vVoW03W82DT6rQOilUGiAfRqPf9MA1ppwbZkc6G3wu2372zTD6D+8YUGw4EeOeHl3JQQvE9oftF9BwHRteUA8pYOuIgbX9HR9/VusEcLQrlptOeYJOpb+wbniFcKrFsnY6Eu46pf++aQCdgAAAAOUGeX0UVLG8AACaLx8dvKf/kaAAJMRChoS5rOi3fxFD9DK/K3+Qk99KkI+MBW+vwUe+tnrV6TCBFwAAAABEBnn50Rf8AABc+CDMZ2MoEzQAAABkBnmBqRf8AAC/4GwAOGa7Nr5/YBZL5P4GjAAAAhkGaYkmoQWyZTAhP//3xAAADAjqBohAC9r/Z0cgSs6xnXC3Zb618ziV38C64KNDmtS3/m+V00RBwDrVqkyEeHgApQHcYvQ+dA9Mz6FGh5exszsW8+yInlr/A5XcW3S8zrLF3VyyuXLOwsiz5hvvwwCjQNaZm1OvvNnQEqEt7EoufHe4MACHhAAAAoEGahEnhClJlMFFSwn/98QAAAwI7232WmgAOZ4obJLXuvtRjd/KpxOFMXPcdplasZqhhBe9CRn6r0ZcF0iSciVjL/x44NR8ezCbNmj2PcH4lNUmFqWtvcJW0heyfl3Ibhs0MLPfdl2koPqAeXQ+yJB5fHbENKqaT02u6Tv942RN5Uc2b0fU8hoihWD2DbEq+Eh87omZ7nJT4Y33RiOawH+AAAAATAZ6jakX/AAAvuuQV7qPXRICLgQAAAJ9BmqhJ4Q6JlMCE//3xAAADAjqAyPAA5fq5NNyaSMfv+m+KMawKNCVDjrV0m/hpklG9vh1HvuC5Tub/RiqLPjEO2b6cfXSvStaIEJhuXw+qF1UARKU9T8CrjavvjD3LF4Rs965VXnhusKKO5Rr9eCCpEBTSV9V7RdqT+0wpQn9pmdL4OTyydbKz5amIXFZvNCKfA2X3mrvku2Q7F2zyAxcAAAAeQZ7GRRU8bwAAJjTuBKACrKWJucd6D1Jmo0n6wgGNAAAADgGe5XRF/wAABNaaggKrAAAAEgGe52pF/wAAMjpBfAbAgTAVUAAAAGZBmuxJqEFomUwIT//98QAAAwI7WkzwBzDkxy2wJZg3Sw0j1rMdijTEO0vIuUMLF2nV8XZbOQGHxiG1BsJu3KrWxhmphUzqsmsO/bF8YE84sAh+ixUKLVn4v9dCVl3aEAffmBmJASMAAAAUQZ8KRREsbwAAJb7fNW4Nj3akDKkAAAASAZ8pdEX/AAAXAu6skWTPkQEXAAAAEQGfK2pF/wAAMPrh1e7JAFXAAAAAUkGbMEmoQWyZTAhP//3xAAADAjqUP/gDmA4FwAqoVjLuxVYzQioiuew61nZmOLxndgrcgFXrmNcWYyl+NC37xRrcxRELDiOkjbfgTAmbJ+jbAUMAAAAYQZ9ORRUsbwAAJpoVoNcz/t0OVk/omAqpAAAAEgGfbXRF/wAAMRjwsYnUysAb0QAAABEBn29qRf8AAC/SQgRYSsAl4AAAAIFBm3RJqEFsmUwIT//98QAAAwI6M8YAHRIgxoIi0+ZqEJeF6IuYeCiPMXadWW0mDPj4XqJsIEgZGdpLQTHVpph5TApABlzedfKj2UECSohXf+qevxlD4AC7ATy/MhWHbFO7W53q/28xbBZPGrOyCqArPw7rLOpamHebHgwsdEWYEvAAAAAdQZ+SRRUsbwAAEiPQy9kAH7KgAUZkC4B7HxCAEjEAAAAPAZ+xdEX/AAAXAu0oACrgAAAAEQGfs2pF/wAAMPrh1e7JAFXAAAAANUGbuEmoQWyZTAhP//3xAAADAjqOurj4AntNeuqYFi7DrSWaIl1vKpmnYOhJjoF064SbDQE7AAAAFEGf1kUVLG8AACa+rzSfxbjfiAMeAAAADQGf9XRF/wAAAwAACXkAAAAQAZ/3akX/AAAwxm6R+VADjwAAAIpBm/xJqEFsmUwIR//94QAAAwOKFY0sAQjKnL79s0DhZbXOF66ZhLZOtxxp+9jf+CLj4RjFCxyfkqRAelQt0F5ahDiRxiI+8wxPDqqSLWpbH77FnK3cJJ5+SJA9jJmOcf0mBR2Q94yNl1j6Fx150qItw9lO62aVQVARU4osrzzui9tzgTifp4/gNmAAAAAhQZ4aRRUsbwAAJpN0rowNgAK8yJJEUVuOB9996NgbbQHzAAAAFgGeOXRF/wAAMQT/lGkVO++s1TYIDpgAAAATAZ47akX/AAAv0kIEWF3hp4WBZwAAAJRBmj5JqEFsmUwUTCP//eEAAAMDh7ykAgmgmsxX2cZSCBUIP8sCMRF11S/ekSVa5idsb/uSn6cwVdvfugJLVgv78XWQx31DRjuC9y3b0t8Uxe4HgCwXq2fUhXAwJzvnjbFxvQfuhrbNPhlYHHTo/3cM+97K2klVAFAKVRKYFL/cNDlmVqr4a3AekDMH2PdNnQpUbwGzAAAAFgGeXWpF/wAAMPhcMlDyO0D0yCbQgW0AAACFQZpCSeEKUmUwI3/6WAAAGygscAFIQb0EB4aAxwGDjZh5NEh1R8qV0y8EYRLeC8CF9tT7nurz3GGITK9E21I/dszKgX0If3qTkyo2BVPzXcahrE97W/lAzA+RbzEP7TtZlTxp96CJ6JbyJdOSx/F+G+p+li3M20JFjUlFnCqz0IZUkACHgAAAABdBnmBFNExvAAAn2KtmccDaA036LABIwQAAABEBnp90Rf8AABcC7qyRIwB/gAAAABABnoFqRf8AADJia7uV4AWlAAAA7UGahkmoQWiZTAjf+lgAABspmBt0Cg1LGu97N8XNLVt6LbkUStevx9cgUm0voadIoeSJ0zRWM1P6unPsWY22ugR1W6Jim5YzqSlqzcBSQORRdgLNI/wMKI+E9DDPXnalO1Fl+WP9u5F0+cHnUcTpusDdmPso+uVeCgegQUpfd6bo6n3nvrSUjH34YaN5A21xYb7P1oxohxIJzwzvjlfhqKXmhvlqASUD2wGo/MqP37lQoZxJDAJTnMHlnUvsg+wxn8vF0vM6DuARGBiPYEbPPSo6GLidSGEkhBjhKf/maqqzldsQrc6EMlkenXUBDwAAABdBnqRFESxvAAAn39LlJapF7kYZppGA/wAAABQBnsN0Rf8AADIu+mRRVYW4buQLuQAAABEBnsVqRf8AADJSo0We/gAakQAAAK5BmspJqEFsmUwIT//98QAAAwI9xBwI3uA/zqeIk0xxDGyqvbo5IDh895sMRLm4MlbFpCJv2ERSXM93HodZJ/VoiiqVbDB8iUuu+aBgQ1nLKZPgkfsGkkMF19FNQqp6FC7gUV4sPYWel0qXuW67HMMCkx9K4RIElrCg5Pz4JzbrI++Snfn8SSIoFcRAlP1nwu2V37hYUt+6+p8D8lQEBkjyo5czao7A81EUGKeA2YEAAAAhQZ7oRRUsbwAAJ8XvVKfPOAAJoTGPkwm91uvI0T9xIGjAAAAAFgGfB3RF/wAAMi8KNWCbw+XcXsNWgaMAAAATAZ8JakX/AAAvuuLCYQIZWJYFnQAAAEJBmw5JqEFsmUwIT//98QAAAwEFD6oAEV54SDH7TyOvU+7sPnKVpX/t07p+b/jfIR49pz+iB4gJpyP5r43WekdUBmQAAAARQZ8sRRUsbwAAAwPCJAFwGBAAAAAPAZ9LdEX/AAAEyEq6ICqhAAAAEQGfTWpF/wAAFjOt1gtttA0ZAAAAjkGbUkmoQWyZTAhP//3xAAADAjtYEvAUG4z//GUp+rBF4Ft2uxFDfOeeDSiGoOiBUy/KRgXWD4Z8cbRUoyjN9QwCuGAMN+l+8NN2172jmY5TSPAowbL3d+R124sa1v7E73wfe7XQ1aR2hN2wrbhWApsCKYpbOb5st0z05VCcvdH52kpk66heOgS6tJsdAUMAAAAYQZ9wRRUsbwAAJTT0W35mGbXW9CYP4EXAAAAADgGfj3RF/wAABNSSQAfMAAAAFAGfkWpF/wAAMQeoZHCRhFMprQEXAAAAikGblkmoQWyZTAhH//3hAAADA4e8pAZn4OjkU27xodgcGfpvadQ9SzbUjM0SlkGH0OzGPs1Fz/CNBk7wobY5zwXZfjtf1OMgtPOLPbUnSvR5rrV9PSE5kjJoGo8AZHYw/xcW/4yvoEsrGBLEmY37YU7Lcqtx8mzXFiMq/zXqNmAeitsHdXeCbngNmAAAABdBn7RFFSxvAAAmtW3MrJuDWIaSVcgaMAAAABMBn9N0Rf8AADEkJ9NSJlgaaIFtAAAAEAGf1WpF/wAAMRI1ORj6BowAAAArQZvaSahBbJlMCN/6WAAAGylDE/39TvF4/QAHdAztzEb4E6Xwa7tEDMCXgQAAABJBn/hFFSxvAAAmyQYQlRXAd0EAAAARAZ4XdEX/AAAw70xsPGJAEzAAAAAQAZ4ZakX/AAAxA9JLytEC2wAAAJtBmh5JqEFsmUwI3/pYAAAbJDXwB777FSmeAjGbKu7S97icY7JpBLLV8LvtU9vJFpqUky58Nw0AKvd7aSYZ0H9590+PmE75bHyAqu8RnRDNwYMC/LFXGqc9YlrfqY00e2xiTlGl+12OlQfEhEoBVFTgLWBJesOcdLkmN1V/nJXVNgfsN4s4pNS9KSr5MEIeKGtOTLysNJdRcAAz4AAAACxBnjxFFSxvAAAlyhAoYGcRgAmeDONN9ANgz4iT/PS3c6HtdwGFNN/O6lAekQAAAA4Bnlt0Rf8AADEhhhACFwAAABoBnl1qRf8AADED12AhqmADRTs7SOLZ9eYGpAAAAKBBmkJJqEFsmUwI3/pYAAAbTjSYy2HJU1duCGOJ1V7QRwTXTywKwF4BAhYGllh5vV2kwjxC45+Vno2HmlPHSKixFEPpnKQi72jxTq06Ul4Wv1W38Hm/1LURuymSVvhlUHpTxXrFXQOnPcZTtyj+M6ygcKVsjNy2eLc3G83CTC/EyR/XXSKlKQHXcv4C1S7ywrwa8t/+WfcrCRYSwroeyAqoAAAAJkGeYEUVLG8AACa0FFCmqdA7j0ABKaC6DlYLQmhu81yg+O87EIEnAAAAEwGen3RF/wAAL69l0WQkJ5Z9AekAAAAZAZ6BakX/AAAw+mY4adqTgQAbKJo1wyAFxQAAALxBmoZJqEFsmUwIT//98QAAAwI98A3nbxy95PAESGyhswtWqtsENhq6jQqIc06IPvfzq7RQ2cqXgUTp8agnVJi4VZ27PcNpmf5zm4NbgLaVs8dvshFLoWJzrzlwOs453h7eFZ9HMorZRkSK6ngqhXaKK/3g6tFXPFgpXLXwMEjrtuInggOqg5cizxjHPEUX45N5oqc8VsQgOBT75kmwPIX56ahakB6N4po7sLjVznRrREWYNPfi92Q71X4IGAAAACxBnqRFFSxvAAAmrnuFuXdsJJ1QAl0vMqxmDjExZz9IJwhs38vQNdg/muwDHwAAABEBnsN0Rf8AADEFG0Dk2kAVcQAAAB4BnsVqRf8AADD64dXtqIQAgtdyW03Nxr/mfmfMA6cAAACaQZrKSahBbJlMCE///fEAAAMBBa2I6ADaYiGqGbkYNbu75fCutSdcJJsg7ESnXAGnZV057sdUZtl7sLMjYGZ09nYaAeO8tgMSmpreyGKk5LzTsVQ/iacqg3O6RbfrHgG44s1tbG37Kf9iGbR6u5FtfvbtXH4yDGysLW04J0Ecn489LUgX6wvjzUyNcRkOZI35rtx1jzlZbAAk4QAAABVBnuhFFSxvAAAmvt6VbVK0JhSqAj4AAAAUAZ8HdEX/AAAxGW1Gz9LKkOiAb0AAAAAQAZ8JakX/AAAxInlLb5ABqQAAAGZBmw5JqEFsmUwIT//98QAAAwI98A2mzidABxvNHBZlWsfmymR1laNsTFIi0H7MBvQesJnFtphXaUoHDdgRKlArw4dxjw7fHq/3CGDd9/mVk8q9xwWJro/Lf4GTuAEH2AaZS+6gBswAAAAVQZ8sRRUsbwAAJsR+B/6aQ3pkAFbAAAAAEgGfS3RF/wAAMO9lAQKQ3ugaMQAAABEBn01qRf8AABdMw1bfzeQNGQAAAGVBm1JJqEFsmUwIT//98QAAAwEFCQ5AEDxQBm7Vj7HcH0NoFPlGZ9ENXtY/Z01fxoej+CfH0rfGJyv0QL1Nt2Rq5tVbfbzdkUmrYcYf9RweRs/RXUJu7n5IyQ25joCeAOYl+pEBiwAAABhBn3BFFSxvAAAmR6M6U+n3uXxcDt4AFfAAAAASAZ+PdEX/AAAXPgRTc2AIoCdgAAAAEQGfkWpF/wAAF0zuUBd+6BoxAAAAa0GblkmoQWyZTAhP//3xAAADAj3wDZXJUACHQL/LPbFTNjeiIzU74Zf2Doj/EAzmvmL9IzUyGNFEFbz/VT/CWF+ayPy1imQ7bhKIsF4W0g69yDYI/FYT5gttxfDhitxdHizpgq8Q+x01gK+AAAAAE0GftEUVLG8AABJkd2SToT2AB3QAAAARAZ/TdEX/AAAXPgRTc5YQLaEAAAAUAZ/VakX/AAAwcdq2GMVo0HmAfMAAAABrQZvaSahBbJlMCE///fEAAAMBDvf+BLAANC5N+n4KTcbbQlHcyuHYyoVTGqAlVT0mikyuniCC56tmuKdHsc4LsI/gw6acl6k0Z+Vo8+wfsLgOXTR9CfKWFzOIWCyfVsDutL5ihomnR8y0BD0AAAARQZ/4RRUsbwAAEmSD6EzIAi8AAAAOAZ4XdEX/AAAXPgEABqQAAAANAZ4ZakX/AAADAAAJeQAAAItBmh5JqEFsmUwIT//98QAAAwEFFmHABwJIzjmpqfz5KJEmzXubJ1ABjOn6LahTuiLfugYG2qLal9PICCLUtQCVFomEXOxkzRKglDDoKCyEeCEdtu2Db4FozMzNuHOlfApXUtY+FZmyrTV9qyHXolaBmxyMeZXiPmXWEy0W4lx85n2WbtfPqtm+AOOAAAAAFUGePEUVLG8AACZHozyZ+0F2pwA9IQAAAA0Bnlt0Rf8AAAMAAAl5AAAADgGeXWpF/wAAMRIyAAZUAAAAVkGaQkmoQWyZTAhH//3hAAADA43o38ZGgAEOAmxFZWL2o8U7TzlCw3MZlplFMF64dcTItrgUvoATgr4VxmGQrHVz+TSjXtqWYSfPmV99Ac3QopW7wDCgAAAAEUGeYEUVLG8AACbJBqji5AEPAAAADgGen3RF/wAAMO9QQAhYAAAADgGegWpF/wAAMRIyAAZVAAAAe0GahkmoQWyZTAjf+lgAAAypPT2AHL1bJChRLo9hovvQ0IZriG0+lvUcoUJ5M8Jg5SgEtONdES1S4yq7BoDoAShTuOFXT/uilF3RO+VF4Ro8/ltH6eUoO2dxdbzvQVhb0sr3quUe8Zq3MstDUOMiRcePkHjkMkBi9eA0YAAAAB5BnqRFFSxvAAAmR6M6U+9lTpQAsUX+dMeyo1AAk4EAAAARAZ7DdEX/AAAw72RxZGkAGpEAAAATAZ7FakX/AAAxEkDkWKby/6Ax4QAAAJBBmspJqEFsmUwI//yEAAAN3v+KNqS4UAONwIucaSVZxyO2pCwv95YWkqW/GZv4/YtgJpJDEZxwZawongPehaAP9zp9epLx+R4qhXtyHkmUjRk78i5OvAus6mtoqs8iXUI6kLPNeeUZi3Eu+1l9ToPTyMO7D+HoqVqiO7hAsIDXmbUIz8za+U80GR3aCWuQGLEAAAAiQZ7oRRUsbwAAJkejOlPmy0ACctxtV3kbQ5AbHY8vfkAScAAAABUBnwd0Rf8AADBx2rJH0M9N1dRAB0wAAAARAZ8JakX/AAAwcdqyR8UkAVcAAACLQZsLSahBbJlMCN/6WAAAGyZG/O8w0y8gBHQfEVVRgl9pVwdu2ru3Bg2UbAMHCbh/Izckh0dnkm+N1OcXdW/JBIe/vJF7voPiFAgJ5JmDo3WE4okhJ9679gC2I3BTYCSA0ydrCGxihfJqgGnEFmGAXusI0PKALySgf0MGzvmq6M9dZaTOCIVxvnoLOAAAAItBmy9J4QpSZTAhH/3hAAADA4hz0IhXVANRxg0g+quz5Xt1jceLGpFv7jS5a9aipHSDam+XwpXTQN9LNi2x7LgA4y5Mk3TBFcWAsYD5FBOL55bIA+OqOMTmK9Bl7v67H95FQp1iW3qmPIgs86zed+S010rJ2CB7Zn/rQNR3PcBwblkVhWhhgmy8Hgi4AAAAOkGfTUU0TG8AACa4dvFdqYARvdCqanB1b95Yzc+4/K44vG6kTaaQ5oCP9zZDfFn7nR/WlcUCmdBoD0kAAAARAZ9sdEX/AAAXAu09mhcQgW0AAAARAZ9uakX/AAAXAu09mhcQgW0AAACUQZtwSahBaJlMCEf//eEAAAMDisxREkEjz3a7RybLHF78WBo2apqKKzciT5g/uvxwyr7hbvVp1rKY3F6RlfJQ0wO5WgpErgsMqowT1rC2sxDtrsp/67usBe4DMgoPu6Xn5Y4ntaHsGTgQn1VFhaTHzZRKQ/oWmIRk9jUja4jKkma3QISkYuFHS9lEq5vSzzgxjXgNmAAAAIVBm5FJ4QpSZTAhP/3xAAADAjtdDvAEKHNv6Fkqwafiauu/gTwnQ6p4jEs8zTm0WeOtj5bSAu/zGfp5Ysjz4p90tbjufCkPLzrF910fzE6mzF4AfJujz/bt5lvKvb65QfPfYz2PYRSODjab7utsGJ972HgjPXtqzqXeRvlbaKjEWSXIEB/gAAAArUGbs0nhDomUwU0TCf/98QAAAwI6BP4Bq+MmZR6vKmZJ7SmXPadeyhOdUoLUpXxQ4ktOBXyd0cFI/tlclv5nvvwAfBKbdoG52y+kFzos8X9n8GLvAVbMywj01uXpyBX+71IwiyjrtawXH8/pNz5nXZ7vsG1+441GLGrylr+V999UzhyjDsype00w13oTDEg+EpCV22LumClPmP78yx2l8xU/Uh3o/G/7YBGgQH+BAAAAEgGf0mpF/wAAMPn6GBLjZSBowAAAAJJBm9dJ4Q8mUwIT//3xAAADAjtdDvACEBlCRKhoNlgvxEf6LP+zzZc9x1YdbCV+OuTREwMpMzjPGCcSXC1gD+0nvdH8wt5Ax/FY1MrC++bwAk46e4xBqUfgs2DE+wbOhtZZMcdSYzwKdmfy+XBPHjesqxY3rBZi4hCc79IhL3jesXGHiv7fYmybr9QRQRunkYCXgAAAABRBn/VFETxvAAAmrns4MJ6KVoAk4QAAABEBnhR0Rf8AAC/ZboGMlYBLwAAAABABnhZqRf8AADEDzk0AYAelAAAAWEGaG0moQWiZTAhH//3hAAADA4iN68B9k1gi92zzvtJIB66Fl1rjOm4ld1E/YHvyFt8+Q/s9fDOwaano8dY0UluRhAPwl84MvipqQ9kH8XM/+hAn3QDZgS8AAAAaQZ45RREsbwAAJsFKrcH8TqWLQgA+RQvoBQQAAAAQAZ5YdEX/AAAxGU9nTuAMeQAAAA8BnlpqRf8AADEkNAoAdMAAAACNQZpcSahBbJlMCEf//eEAAAMDh7ykCpn5/Gp1b/t9/kxNNMgVNUVprsXIfkdkzCQrle8HsKH3jLViCBTnMgw1cJQsGi4/zf7v2gxw8Un1Akxu746/FUY5T/S013FnEDGvxRbfTJvhD46AcVaXJ8dt0CJZkble4NvOFgEOmgkIn954kShH7U1xmSlDwGzBAAAAjkGafknhClJlMFFSwn/98QAAAwI6RNrwMYpmb6Ixekxc502CeE5yt/4R2CpUX/0C2v1umjsHQsUJcZoaBhI4ClitbTYrnFLlvgrJuZhCvv0hwAtojN5iAgJlB8y/GyjQhDi4tDj4LELz1vBP2nxQkxt/59KXOiqyLl6UEB9urzxYXPh87KYotMuNQltYD/EAAAATAZ6dakX/AAAv0isgpEDb1kA4IAAAAIRBmoJJ4Q6JlMCEf/3hAAADA4h0UkoDG6kmwrg6rIvH/wra9dBe2h1onpvZf+sLKQ+gx6gKjIJHvB3HyuY3rZCnGxg0rhI9eQYImsbF3ns3SAGOQ90L2WbWnvEpovc9Fj7/bXvZona//hMOBNwdeDJ/0vOOWWzql6QX36hT0ukTap1EBzQAAAAeQZ6gRRU8bwAAJb7e+mwADt++SXrXu+NHp9u+UgY1AAAAFgGe33RF/wAAFjI30ABCdW1l/OvcBMwAAAAVAZ7BakX/AAAxA6G843sznFN7wLaBAAAAc0GaxkmoQWiZTAjf+lgAABskNfBK780VGDxcqlTnjHsuUVrl678Ejj216Ct2FRSyW8iCIIM2sKtP7te1BtxVnJPMWVa74Nsp300D3+VQcQk4he1TuXyDryHfTd8JnzxmOh1V5CljOXAdzRxhLD4jlqwAAz4AAAAOQZ7kRREsbwAAAwAAB3UAAAAPAZ8DdEX/AAAEyEq6ICqhAAAADQGfBWpF/wAAAwAACXkAAACiQZsKSahBbJlMCEf//eEAAAMDiD/7EBmg82EfAq1/dKjDWP0AfnscJuQcZ1GIQsIClNYnx4EPGb6I//2tq/6ytMnhQhlHxGELBlqgWuAy12u9+1YVhEkCzbRFphffrBkWJ/9eZs/l7SdsxnmowIF97TO0X2ihf54O8tmxE+FpkHQd9Uy3xK/ITJ/tXlcldZsrIhkV9l5j8FPELT4rXNlmYEvBAAAAF0GfKEUVLG8AACWufHgwm4Nh1kjsoE7AAAAAGwGfR3RF/wAAMSGLPyelioAAQqcj3u/vbagJGAAAAA0Bn0lqRf8AAAMAAAl5AAAAa0GbTkmoQWyZTAj//IQAAA2BmzAoB8KYulFdyNMBLQ1LMV/6cnBzqt/8u5FegE8KvviYXU2ORBlE/y73O+UnUWjXTvX7lDJebl8enprtgNq06zB1XI7Vi+wd784AaUyZ8hkkMCpQfjwnKAjYAAAAFkGfbEUVLG8AACW+3zVs3abjZ5EIFtAAAAAPAZ+LdEX/AAAEyEq6ICqhAAAADwGfjWpF/wAABMhKuiAqoQAAAKFBm5BJqEFsmUwUTG/6WAAAGzJzHgSDwRpssqsRKeD6M4hFDN+A0eh48xLXfeTZ/qhZ59LTqVtsIkimDQBVDoMzC913h6Evox75j4mkPedrD+58iLfBkpvb2UKV9sGbbiVYEG2+YS0hBT5CVHPGIpPDlBAKV7WjT6M/hum0iLVPW8ElpwYbYnOuYXYiof0T/sXscn/sOwX2fPreXEfZbICqgQAAABEBn69qRf8AABdTrcmtBYQLaAAAAKhBm7RJ4QpSZTAhH/3hAAADA4oViJICEO4/OhSgx3nfbZjq5KalGm61bSm9x1GLa/sMbcQaYZ3UOhVrz/c0hjjmM0nolNvsyK7O4RjHGLlKbfTwBc5OHo1sLik4ZYx7ulq+mfMDfRtWoEjlpc7dJVEGXwTKrpMARkPxE6IIDy/PD71tns9qnHYZGQq7/RS8rw+PEcib/Bfm4g7TYEJftgmomM4uOgMwJeAAAAAfQZ/SRTRMbwAAJb7fNW0nrgAegAZOMAjzQ/dG4DwEzQAAABEBn/F0Rf8AABcC7T2aFxCBbQAAABMBn/NqRf8AADEBe6iYZ1WMIDpgAAAAekGb+EmoQWiZTAjf+lgAABsycx4EkwkqvbjxNxZxyEEagRmg9ji/PQhPFTAKWby/GGPxq7TbdX3w+1VVLDEwYspecafo8eYihN+3W6Jjey2uTB6qqTKzRM5OUGHXzuYixbp7LR87cS5NxdmR3sKRzdN2qJCojPRpAHHBAAAAFEGeFkURLG8AACauERVOyLwrgBSQAAAAEAGeNXRF/wAAMRlPZ07gDHkAAAAQAZ43akX/AAAXAuxSnoAOOQAAAKRBmjxJqEFsmUwIT//98QAAAwI7XQ7wAtZnqo7i6XKzVUHtZ9yoH/5cue054CZarhkC9II2GY3RQEMP/o/cOfLX9+l/bSiJXRlW8p1AawAWa7xkPUJ8nte1bLHcVh5okXS0AsqgEOo6r3Sk6PBmmp4lvY4KAntW4AeNiXAtiVfSDqPCiHZBRZpVhmAVEKamBCcfvvFa97xSXWKF3SEQfN74YsgE7AAAACtBnlpFFSxvAAAmwXjQAdBAQp/1pNUaASvgWz3g7EDD+No7aJ1lk5x8AN6BAAAAFAGeeXRF/wAAMRjwsYnUM/npAFJAAAAAEgGee2pF/wAAMRHt9R8AgyAi4QAAAIxBmmBJqEFsmUwIR//94QAAAwOJySJIBZXs70SHjQpByQHdel3c0dM/6837wKTEWWdIOK9WAC9uIVLONu0UyV1P8Olmz9xXWSdBzHPa/TYc3FVcXQ8lzDSX6Fq42x1/dmn67IAqkiJWwyzOSBixKITU4d93ZRdSpIMSikwXIy2KmOxlGoTUU86/rwChgQAAABFBnp5FFSxvAAAlrnADoUALKAAAABIBnr10Rf8AAC/ZbYlf1hwApIAAAAAOAZ6/akX/AAAxEjIABlUAAABFQZqkSahBbJlMCN/6WAAAGyUyMgpFjYAdvuGvNHU14DnLOVfxWyZDpV9e0KRUfbb253++fyMjaD8kM5kjVka/dRgkJAHHAAAAEkGewkUVLG8AACW+3zVuCEAKaQAAAA0BnuF0Rf8AAAMAAAl4AAAADwGe42pF/wAAFwLtKAAq4QAAAJdBmuhJqEFsmUwI3/pYAAAbKNB8vAIUecfDfF+ZSeEgZTr19emuVpousVkW8/i0deWc54SaLZNLLjIIK8udICQgbGOh6DY/uM/c8nMcLV6fqfv0D4HBTE0Pnm6zZA3wKiGb2XdxnP/RjrCUB7jj9aWZM+TpFoJDzQwzi326896GeGwwugdmzqJ06V+INay9ge4v+08JyAqpAAAAMkGfBkUVLG8AACaeMF/nFr6LA+gAH68TRB4BHNzkWI1eF8cptZcGkHVcGtIvWYn/wAd1AAAAFgGfJXRF/wAAL9lugYZUkiG/AuVgB80AAAAdAZ8nakX/AAAxFrHPwAHBQowBx9i8VYv+O34AmYAAAADBQZssSahBbJlMCN/6WAAAG005AXrsFsgtbvSpPfEFNG/Na/c5C7KIvHDlGch/nZm2wHcFiSFpwvpgZw3eIgnw9Ia70jDw6duMTUzR41T+36opVHnORNAqBXY4o10lo5hcvrvneesss/4YY/Hl2Q4EcBxdp+kxJeNwvwIwF6iXWeZd5yUsJcNzang8wKUJV1aHf5YgnJRfMfN4UQV442D81GX/jHobOy4oEuLLqd9ITO3ln1+CtMH0VjvNGduhI7BFwAAAADZBn0pFFSxvAAAmylWLNdIZ/u6ALmQAEqHRKWHmIF+C+1sw8PJumLFFdIOSbvxPJQ7fgTIAf4EAAAARAZ9pdEX/AAAvr1SU86TAPmAAAAATAZ9rakX/AAAxBzvW8CXGykDRgAAAAKVBm3BJqEFsmUwI3/pYAAAbTf77F+FF8Pr9AE/A4Hpyt98mFMhdD7C91fLB3o5smnqOta3T3Gw9gob02z8e6iMOTxt1xZtx0eixDFfcfylnwOca1Yt+VtCB3UyNClTqlR6/H5ckFVtZsiWq0b0oWckt7iF73zHOWTNQTSBy3g1cvWuPZbXc5fy6Um6BN2+NSQiaEKVC0iXQyCUJpPPyE2xKK2ZAVUEAAABGQZ+ORRUsbwAAJkehfhOu6d3AAB8xQYJazP2Z3CcftcwdpwDbYne0nTIAOpYyBvywTVGvYWR/jYGyIMCet3Q1HfE3ffQGNQAAABgBn610Rf8AADBx2DP56AGPgqER8yvAk4EAAAAXAZ+vakX/AAAwcdqyR6Wlaj4SXwRAd0AAAAC9QZu0SahBbJlMCEf//eEAAAMDjejgU+hK8P+gCM0u6FYCc9SM43CdUlRR/7oA/7rUoRjr9bgPvX9IPiFqceyo+QJcRPkIPaHrOu98HYdaDUE+L4M7tO2QWQOZsM8alEpRtH4TucoZk+iZ3CgRQA+WYeJUL27/RXFiXUJtSlKkbm92oupMW0wWwllIMHuUGwU0zBQz3jWg2uykwmjOGmxOZifeeSXnqZ51ticyvCTPlJbbKDkD4h39x0UKoBOwAAAAF0Gf0kUVLG8AACa1jk4MrWdBToFvUFVBAAAAFQGf8XRF/wAAMO9k/39zJEeg+6AVsAAAAA0Bn/NqRf8AAAMAAAl4AAAAkEGb+EmoQWyZTAj//IQAAAZ18ioUIAckF1eu7etJHSMIilio4thlfSzXP5JVA/weie7YeYJit+KW9ohMOjekmVLR/7DHLGym6pHw6qXelcl85lv/f+3PUYRJMTzMQ8lUE0o4VsiXeaHH4oN5mF5hCQkiPr4xL6WOhDcQDmSfjju3xjqOztaeYTldV7BfG8BowQAAABRBnhZFFSxvAAAmyQf224ahS8gEvAAAABABnjV0Rf8AAAp/BBX/9A1pAAAAEQGeN2pF/wAAMSQzhyglHgJXAAAAGUGaOUmoQWyZTAi/+lgAAA0HF1qxTnEoAl4AAA7iZYiCAAn//vWxfApq6eqKDOgyLuGXJMmutiLibQKqhQAAAwAAAwD15zZgb2tiqz6AAAngAH+NAm6sLe9CwcCTfQVYD8NQZYoHC0MydQdwNUSMkBTssxndChUTptXahloCiNLpeX6XRM80lj5oXeewZf+YF+VywblAAL7hugb0wqZf1WIX7m1Qb8Z18pxQBfhNp9CxNY+1cPp1YCJLb64MQPQdwxIjKrIdQjkqWOyGxsDNcD3CkaBAw/D0LoThngVJhrCkJk0ak8WOxw+zn7+J0Q5t9bDFZ9QWC/fVYYGJF5boudYXdC7VPYHgXj0pPKFU6aLsRoL+tvwS9BDkueHDY6ogz+4G+TmK0HT7r5djRNv+o5N1yZPOTQD8V7p5xh+ANZ3KnGITcpslNpiHfWMxki1T1wWwXZjDr0vj6a9ZgJYXXQvN9vOvzoKoKjFCEiq/Vh76MxvUU0UEk/Z+dg55zx3Dt9WXS9Nh2NWSQqXTOBMA3tp+777BpToxMSztXeJLXoiQ4mHt/PXTpJJp9agdabuosLBFX7+Zau8/aWVHI03WQM6rzC3ai6p3VzsRr+/OhMQMG+Rdm2Cj/64gTjRhp/wsW7QVcvMBNPMlaHRGAAYSLYdD176bdnI49joJrlpy4Cw7vJYri2maXywb2zW5rM5Wt4VplIAzfBvw+lUKHSTw5jGRF8LAIOAHn+Gy6lWsNF4sAeIbl6y0yqPYpvcsYPtAkDUJDpr8fNRn2uZEaPiqMY9ni23U0P098K717DUDcqM1wawyUuQH+Y9AAbP+bpvpNngZgnpXM36TcV1V4atmbNHQOliYXMAAApj4SAn7caLTuTxTPBvBW6CwmAmdRP3diydza2v8/15cRnfURdqtRdDeqHWQR6AZrNUMQUFezRfAY2eRz2rcnWSR6QoSJ14FBQF61DM5njzR2OR0/WyzOpkzQneliKuHobJhsO5Ke4SnHMfJ4ETMEvINIWMJAdYox9dljmL/ykq5Jlo4ujBlMCdzeLY25jbtmI9bhhONiaiis8LxsviiJ+3sGKoGGfRuCQAAAwBFrg3acK5/q2YWFpvowpocDftNyWA2O/Y5NTM0qlwjj4H3csjdu+4C39tD8eGvS6CL8LQ79gRP4NFjJ7UH4+kA7BPjRht+AaiC0STTHO5Zl8xW+mfTfjeZTbkhyCLBhpsDevsxBlKk43dko+LTlM3DtswLj9xQC/ccvOAEzyUWccKQaHyzC44s8FtglAXp8XWQbr8y3YkAUblo5JcAz6b08GKSXKi/zQ8oHZjF374BKiW691WsiM6nPUh/eFWtVtKW4UwUGA31FPNmumK9ECVDV76ujIQ9lp01Tma+jv2Yx68Bbjzx+nxN3pEZ7ELfogkHZ0I8937FH46Z83TUCXEwwdD1/Nvm7yYmnjo/thox5AxNELAA5flpxqJ/thrzjInSQrUJJSFfv4L7KxAV54ZsWMsf8P7bsXQmZwQ9edVBg7YtZytJQAucoh47X06qjl+AMhY6wIXl2gh6UzPPv7d3PA/44YJENJtCICp93R+ALCuBdDuOmlvsSrV1un9fAO83jT0TYEEQaG2A+aHtjXKxkvo5WzwNmXkcfhpkKQZmrugofextp+BakTBslLaajot8r+wNBVgjnp8FqwYovmCY4ngdTOr+vG066ODGirKN30ZJNFAB898ZLzf+n/h+lA5kcbisfndhY0wCGdrw3LzMFER6XvQjcClFVFzU30foEZ5H388GHhlbfjX041WZ7t9FiqF2GLqktvzP3cUuHMJ8d45CQYBSEQctzOLkSulI0B514R/H1/LxFDxsMqNTlSluM0/qdC43cdODYSofYOm7ROr4WEIEukU8Y7I/5KPK8kIFrUDo8AAGo6gFhiNBaKLxOeK3Kxz6fM7ayTVwucapHM/npC+izjdqBX9iHN/tHw4tngJilSUJWjNsGLyIRriCM2mR1q7HgWL+pOr0X4fzdaw3QvaF350OSebg+SLBdUIAQRmlVB5mEAzOIn8Ovqa9/rorUt4iDboNb5E07aF+3AaxZ7Scyuvz/iRq0skZo+JTdqnA5eTeWYck8sB/opmfc5miyUpqToe8cfiCP14kMTbnwLhOh5XYn1Ckn1KIRuFnIl+fMRhl2DeKTme0cVij23T6flHqf0fwQbjs+3/xRtU/EYdHrrdqtnb6obTzQ+B8dg596iWROhU03oyyxEnFu7AzsLyEsDLLz2fOjBpM1Z9rQufn3//8JbLce+L62D1yhIXat195vA+53ZZoO8ZcmI0k0sBxfpUjr5AphiNXxtalmAdYKVOchdlwpRV6L5i8pv18hcN75gngCNwj4kWdAuM9NvsirGNVntINEn2PnvUBqH/kKZZ9jakONq2sjen7OETMjZT+7HxAv/C+6h3EHj5+6+uOLZDRaWIP/91W1GYJuKNNaweIgAACZgvc3106/iJXpnmU/bu4Ap1PYu9ksgU8lcwhwNdoPK4lV6HqL/8oYQBOmPcABN4eR+/Mh3kjp+mVFYFeGzamrYxVCOD4BOcDHiNMGVjqd4I/QWgqHHUItoY7GEf0ClHcMHXMTLtLAxellq2QDxOnAFx0FJlTaMhyDAcwxZbyTI1+hy+YvIbAE+7oBBJyAd2IIkGf46s+xuJdsfDGqqbQBXii4W6X8cDD7bFnhNNnQywejU47EktytMOIMGN2yjYXw27t3x+ZK1nbGAInSRDMM/r9nlU/3LhmcqqRAZVRSYT9VojI6oCbs51MUIK6sl71WVQzeS+J4Z6YWdiUM3esvvqo64E7tcZsB3YSE3wQTMvuj4Lu6BCIhDQWYmwuVIav5IPF4qFoXU+kmEb6WzsKjyOgrM7hKPd5be5EVbppDB6+BjqzEhrXqjSZp7ahW0jYC1nfSGeAAZI4SWlBUf6MWJNXTFaGCi9XXPuRvzvxFdGcPiCjCUCyElbGKVvyYc6DalA0KFW8EAYA/AZZO+aVQtjUTuMpZn2/7h5+r8MHjSYWPH1XcmeckEM2JY4ppqbpZkUADgsCjmsqDCRzwe1bzriAYx/GJQPG8uzq6cLwPhWuPps8ZpHCUDYJ5wD9xVD1U0QFAW8l0VvUAQqj3lKIBQNxZbVTa29F73f1U7WHRSOF2t0PiS8go1f0FR6DCT8JXNL0Pe8Qkdlb48bfXh/5m0WDPRI3QqQgcyrZqQXWicrhQDrBGR/2uPa8fR5PYiNGRZntMQuutmuNhvPCpdQv1Vj528NiuKzyBxCqQASW05g/kT5hSZCDaCW8cnhwoPopUkbcQY8uzUowGoiFTrR7/7/0MQ7eXRkVfsnH4ISty1xubD+VLh+RWvnuyRqM1N0Y1BflBp8JEOn+8gvTV4sWTPqRtDcQR5NL1nD2xk6/ylioBjBr8vp2CUN7ag1wcaTaMk00hS5Drn2OY2UR/XJotz2GEdJSwm55gQKmFq+qyNl/afty09uuh8QOM1thTeehiQ8ig28mprRiFRpJzgu4/WsJzxz4X55h2pF+1PXu/HADbNvp375NnGQ3SCWnKEjjpuHp/ElT2hMF+sX7uAHROsT0IoAcT8FMnv39XL/tby7lZQSePTZwQHfN/eeEV13ZHAAcSUtE+AezEgSQ+9oDUqVvnHk+/G+wEjTs4S89Y/P1/7kaKEo26/SQkxjAK4tjzniG8T+9lcMFn/gVGPocNNmIx9HnuxnNXiqUplJ5pazKvjst4/Zw51HsSAE5/rEGRaKRLGBxO7y3HdX92ctFs3NOTSv3Hf1FEv2g/mycDIzpZs+kINs2m+ESDic5QPtq3YMFg/iOfTCTQ/cpz2OaHnvbUsGCxuVfKbLybmqogTO6Vh/uxGxqcjWUT8JAP+k8sBMJkxbm53dorc8GWlq3GGKFHoiiiBn/iLkahu19Ov+em3gkaaKUeDKdPD6nYPVXEiSkMlj1Kjr9+LJk1SuT6vPO3xZRXl2DG8kOmk//4Cox3G1uxPYj4jcygrpMpFZ6Hszewsw9xPmrb8CqmEveNAT8VAJSO1ky8H7bB6NiSTIpgpUSk1BSUStQI2srWtw4AuVdHTNPpbch4vbL7dPfiESY8LABoDw9iWLFoyJzEH2+eLDzslxcNCek46Cir2gZib2Fwb1/ImcHcUDDpqIb37VKNSq7aD0s4vU9aCRpjbugB3xOgOWCDatb+6Cx6q2+FNCNDViaCzsLCmRHfGOspllkwUBClJwXR9JcmRhFLd3LkU5/+6slttJYaEtcDR0A7CsVaNiCzDYy+d8WvtkhfDjgajljRiyBOFyOUhPWWWRXUMnIpYyMf1/y4RgOXGhqxVaAJpR489+q3gxMjUC2ww78eU2VsAdZdTZmjY0j+NrzzpM49Ne4e3BNrF1PDoRsxfLTTsF5Gj3TlprEqeL8EqYj9NjeNv5NK7x4Nw1/dsqEs4t9GaBiTIryGielUmMX0eSujCkIjAnXY7nuFi3Vjg5QzgPIzYgCTKdCF2CA4oak/3Xdrgm1Gjjw3rwTLjVg0iqU3I9hHkrYjPIKn0SaHG2AwaOze95bBz/xx88wztjk4V049ZeR+7mhuz61M8CWknUaOr0HNBbkir9oPK74rB3rztCKjk/T9eifinLosuENovIBfURDf4yCTjYwsoqh5ODarPiSbRi4jdjNTT3QYGQjH1arn/7T7K8+oQ1CFPgyQdVpgN2K5cjdwi2j4lWaGtaFYf/P+jyOi9vHj42glAt6KCUsgcAB9t1HnO2Whvgc8bLhrmeJQJBwzyRfB04AADRHgxg9DVHj7suRK3FPTr6Ate2bdlYeEXR1Wh0ZDL4JyZyLAW9B81r6mz7zAyDBesTfY4YYf3/8fsj5yo0poPn3murKmSgKLmGTyvv0jONW2yFlIl/JJnNqfG13+tP2ZrAIbK41knI8PenK9HMEg+G+2/z9NA3pRxBTIcY4wQ/kulRx9NIhWHfVW02GSDp1E8VAK0jlOU7Oul42ACUhnpmJaeveSyV54p72Frnz5ycROTBlIv/uxIH5f/NCXkxHb7nSJ2puBsuPBETWxETYI5tkQLpM2TLmv+J95QhSOw8/A/DjwDtiYlcTr54BdT55AgYAAAMAAAMAAAMAAJmBAAAAr0GaJGxG//pYAAA1W/kNhXzIOQP9AE+6GIpQ316lmMiOyGtPnWwt+6RorEVEHf4/mRXtB28DPl7ayP159jfZyuYoDk9W0b8hK5FwrfT+E0fKB/Ip4EzxbSyes8/jVK6ylNBIc4GGTyxTHwnrGeI/QsUXqCdfB4Vb5Uxj8Iy4kcHBDMkb4wzrH6muUsjBMaxBNSKwvVEuJau7h2099z4BjIYWyQcA4ZWAY9H/fO4AYsAAAAAwQZ5CeI3/AABKjnji7OvgBLGaXrTQEamYBn5Xr5vvo2ovieh1sy1HROCBdCdqyA4JAAAADgGeYXRF/wAABNh81Ak5AAAAEAGeY2pF/wAACjkAxDfIA+YAAAClQZpoSahBaJlMCE///fEAAAMCPdE24OcnBvgv7PAEWaE04j2aKwQUXHAW1eO0O6TRDF0r4YqN1tnfiEH2NbI0GN9YXwO0W+Ln2yDPHwzm6Y7055DiOfuqXey4OxEqccFMPf8IMBV8UHb00/YpYtE+es9al6MOgtUyZ18cXZwjTHrFQqSDwD8y5sLwWXvefarBjpf/9gp0G6RRmZ/KrZ7OYMm2+A/wAAAALEGehkURLG8AACZHowod8AJz/q0stnCiCEoFjtFwKmdIdvhZC/psHKHtQBMxAAAAEwGepXRF/wAAMHHaskfQqMkYA/wAAAANAZ6nakX/AAADAAAJeQAAAKJBmqxJqEFsmUwIT//98QAAAwI7XOz+bADKyvOdQXkqB/HEzBneL9qibqXywz3iYi4bOewrJSQnYxaAwoiG1yf/lFIHM10DGHvS7EnTvERvJ3YQMSvv8MmOQOqeWGTuK+Ga0Wpy6B7QMtK1hREQEiaKdtbV7XBpM+v7WshjDuem3G7cOf7cn9M0kJZPVfMC67GndSnoeOr0WKpmZQzQzP5XAdMAAAARQZ7KRRUsbwAAEdc3+B2gDAkAAAASAZ7pdEX/AAAvxRujbNAngA3pAAAAFAGe62pF/wAAMSJLW7uT5hSwCgHdAAAAZUGa8EmoQWyZTAhP//3xAAADAj3wAtpLeemDy1wAEXEsREUs3PGkbgJNn9znxhAe5MVy4G/scBKMoL3hEaAyIpzqnKPZQe8P3nTea4p46wh0K1gWVyqnI8hhEmGRtN+KhW7vICyhAAAAEkGfDkUVLG8AACW+3ud4BsgBOwAAAA8Bny10Rf8AABcC7SgAKuAAAAAVAZ8vakX/AAAxEe4bOioXgT9fIBoxAAAAgUGbNEmoQWyZTAhP//3xAAADAQUbs6ADjzoyqnvp9Efv5mK6P4XLkkoiim6znexBxdJHPGkXbMahvgYGy/FSgfM7NLhtshtlkiqa6b6YPjqxlJZMF7YJLfaw/6ldiu0sT1k3/X2xRHpn5JXG2M8HAOtTZJc6Y5ADaYBTPCR2sSANmAAAABRBn1JFFSxvAAAmvtrCJIIR8ACZgAAAAA4Bn3F0Rf8AABa/qCAJGQAAABUBn3NqRf8AABa802hIACFNrNpwBn0AAAB/QZt4SahBbJlMCEf//eEAAAMBpUaCgCMDZyVnY3zIe+O/v44SklARI/gYnkkf2WVAL2z0Kgi1uAcmttLlHiHVb+ClW8AeqEz9PGCel6GGjwshNXNH+tGalGUSfvESOw8ivEVWfQzE/pcuguXw2HyhWyzNeSUAUbHyqZoAIj4CvwAAABRBn5ZFFSxvAAAmR6MglfFa+sB8wAAAABABn7V0Rf8AABa/e0eukA1oAAAADQGft2pF/wAAAwAACXkAAABzQZu8SahBbJlMCEf//eEAAAMBp3yf/gALFlu6opPICfZaYAu/yrH+lDpQTwybc1ATSKi6Qdfy62J/QgFTjgzhIlRYgeEkV9mKPn5dWN76OOgKw8W75cdK6dmQuOf6q6HpvfOKVcdoEyd3eI3KjG1q7xwBxwAAABVBn9pFFSxvAAAmR6MAo8CYXLWAYEAAAAAPAZ/5dEX/AAAXAu0oACrhAAAAEQGf+2pF/wAAMHHaskfFJAFXAAAAj0Gb/0moQWyZTAjf+lgAABtN/xrW5xZdAEshb0SUL8X9FQF0zjmGAk6e4xMd0LbS6u269LDb0X/b0lgmnRU7At/HyscrBF4/2ZbgxxOT4OTWSo9lBkLqTLHIQOLIl9/hOdoQBdLxBUWekPaAeMQKxwngNV2HIFZ+f3l1J2SbN921lP7vClQL/2jlY50r3AdNAAAAHUGeHUUVLF8AADBx2rJHxp3bnACxGbYKajFoDgEfAAAAFAGePmpF/wAAMHHathjFaNB5gHzAAAAAn0GaI0moQWyZTAhP//3xAAADAQ73/j0ngCI7E7VmlPGQF1FyMlmX13uBVFoqUogAhvteTh6F+Ev9OMB2+QGy4QWxqam9HguXd8RfCh26Qq8hR3tTocICnkfN9OWkXl8lu5AoL8pnJWp8JSreCV1JkxbueMTuP8/ohGV+lJyYl23QvOPLSDlL/Cj5IXsHQcjEIU55GKq7+mYQ01qYgJEBzQAAAC5BnkFFFSxvAAAmR6M6U6HvgMcAJw7r5F8xsjC7j9OgkhvyeLftfQUlW577AOCAAAAAFAGeYHRF/wAAMHHaskfF0ONq8BMxAAAAEQGeYmpF/wAAMHHaZHoXEIFtAAAAbEGaZ0moQWyZTAhP//3xAAADAj3wDZwkngCI6543nSHGRtnMw8tA3v3uOUItVc9NFbG1Qq4eM5M0o39YxnPV2s7Qe/HE2XG509ura4TiBazFwF1Zgu/MsYWfYIwbVO5+nzCcizi1sfamp4AQ8AAAAB1BnoVFFSxvAAAmR6L5OqAEqbsj/K/f7NtRlQDPgAAAABUBnqR0Rf8AADBx2rJHri1w6USArYEAAAAQAZ6makX/AAAXAuxSnoAOOAAAAHhBmqtJqEFsmUwIR//94QAAAwGx9GRBBIAQfeAjzruzsfFtfjSjUOfIrfTXpj2Y5UQNDI1fxyH5bDdsbNVsprUDxRCQpNRrP1+d1iLl/IlaYb3Cq50F3Hm/4HKlLVMuqjvbu8vVW3pu461WcL7II4j0GucZR28MAocAAAAaQZ7JRRUsbwAAJkejPDF8B9AB8y01tGisBSQAAAAQAZ7odEX/AAAXRw3gM3QCvwAAABABnupqRf8AABdCAGi/dAYVAAAAf0Ga70moQWyZTAjf+lgAAAyh3OwBKcU+w1A178HicPPbgWltbXTxSBkh8tl0XhFk0Q9kxzgVSCAkLhvjsJLn5Rz5Nu4hLn+fRdQmtrjytvfcs2Lo0mmnQFBheFoV/EqVaU2bedqthIL0egf0fXp6rnPuPrTP8l9+msgTIA0AEnEAAAASQZ8NRRUsbwAAJkejIAYA4BxxAAAAEAGfLHRF/wAAMHHaQG+AFxAAAAAPAZ8uakX/AAAwcdpQACigAAAAtUGbM0moQWyZTAhP//3xAAADAj3WcAUceknaDpFIHRk8I3evGSXdpwnPY2wNL7qAh1tuZFt6VDMXwLa/mwF20IPDu7QFXWffVqQF6ZI2HCErU2vsScvd4/b12wZ7JuA2Dn7VO4TpbJBvFfifuDM2gQERuJrMBWVpy0AMD5q1qQFY5QHVKBKBzLhZpKVY/RFBn/YUymaODNX/NHVDnhHwGP3hKL1hVFjB88FXga/vjrz7Mg2kDAkAAAAYQZ9RRRUsbwAAJkeh+3KBys9Eo9tesBHwAAAADgGfcHRF/wAAMO9QQAhYAAAAFAGfcmpF/wAAMPn6SD5KYvwqsB3RAAAAc0Gbd0moQWyZTAhP//3xAAADAQ73/fn4ARH1ictA23sEFtZLEjDwgV8h+4D5yFA3ySdGwsM+ahQUU8z2VBKzH/KqWISE1y+US9cUB2z3/gHwmXqejtjRC0aenMQF2Y/btP+HnXxPfo2QgiBuYz+vRPLAc0EAAAAVQZ+VRRUsbwAAJsFIrGVhrgRwICthAAAAEgGftHRF/wAAMO9lAQiRvdAY8AAAAA4Bn7ZqRf8AADESMgAGVAAAAFRBm7tJqEFsmUwIR//94QAAAwGloNBgBF/GF039EQxUywdal5/Av6I2m415WOLWUeYjEs3c/NXYZxdhayhRX+0a1E8HQbPjjVpuVjlqenV6I7uBAYsAAAAUQZ/ZRRUsbwAAEl9bQ2ZLem7gGtAAAAARAZ/4dEX/AAAxBrDTmqQAjYAAAAANAZ/6akX/AAADAAAJeQAAAIFBm/9JqEFsmUwI3/pYAAAbTf7yEbr6d5gCDlFLKgY829Fka0voso41o44QD1xmFT5UKUDo95FRW9fBfxBYgA9YulvBDFbNtHCGmfGjcgD046IKDAPQDBhrx5MdOEHt32aReExhGzpKuuFcqqaTPUjO4Kps0JF5JiDqauI3MHz4HTAAAAASQZ4dRRUsbwAAEiPRkAMAcB3RAAAAEwGePHRF/wAAMRlsgY01zdHATMEAAAATAZ4+akX/AAAwcde00cCPtogDHgAAAKBBmiNJqEFsmUwI3/pYAAAbTf8aQ+QA4AbHuqz0vOltnPgf3MvXBADd0X/Rkn0Yl7OfbyOLgxYHReU5PaR/HnOIc7Vcvx3heRCECPKbRmDkVigw9GCt7HZSVVUSu7P+iuNrTpr4v27KA7jT+1CYdNM28vYTmu/rjedO3rF5eAN5pmfeavA2pRXXxiSbrO7n38231FWPIKdTbHyH7o8VSgIfAAAAJUGeQUUVLG8AABIj0URPgBK/SqsBKoiXaGL1hnJHnAPDs1FYAXEAAAASAZ5gdEX/AAAXAuukxbLG3QFbAAAAEwGeYmpF/wAAFwLr1N8mi/AbAa0AAACrQZpnSahBbJlMCE///fEAAAMCPfAN528dxNlgBHaV1LKQ92kMBMiOs74O6cVL+Qyo3nrBRbo9ggl+VXMik8KoOUwAschKvKC6CLFG94HecQF0ZmsnCmu5/DU+9zbURFKECdO04puF3VhptTzH1L6qOqkrXdt3vumHsg/g7Q2a0TO9T4dqELC4e112bu+vEhSdtqEM2RNVYjorljR0tXmUGQbLrnpvburkXANmAAAALUGehUUVLG8AABIj0UOnACaC+PXvnG7nkDyQRpfhC/nDIXKKqn1jutG8hawJOAAAABQBnqR0Rf8AABcC66TFssNexuQEHQAAABIBnqZqRf8AABaxjLIK8BP8A64AAABcQZqrSahBbJlMCE///fEAAAMBBXIWAApwGkDgI84GQY71IWKsVBsMwoIpxd2FVWVxg85EI8Tfzr2Ftr2tCQ9hYqWNPtRfKeRhPaT2OMG4MLgbV5RCKtpT/2KAFJEAAAAmQZ7JRRUsbwAAEcmqMyAErDFzx+WXPlDOQ7WK6XgflmswrxMgHpAAAAAWAZ7odEX/AAAwcdqyR5/s5T2fVgDRgQAAABEBnupqRf8AADBx2rJHxSQBVwAAAG5Bmu9JqEFsmUwIT//98QAAAwEEovITp0AIfOtvJY2/w4gyvvDqeFxbKOOjUj01B+c+NCjuSkqkP0ZaU/A1qRYTZKLo6jhqDjC7CFHgCKiSHJdb11g59mYmwgpxg4GytjGqvkRcevXNxcmnQ0UBUwAAABVBnw1FFSxvAAAmR6MC+mNW1Xj3gW0AAAAPAZ8sdEX/AAAKh9E96Ag4AAAAEQGfLmpF/wAAMHHaZL9waBowAAAAKEGbM0moQWyZTAhP//3xAAADAj3wDeI2nXQAhC+NBEE8fBVDod+ApoEAAAARQZ9RRRUsbwAAJq5wBgxXAd0AAAARAZ9wdEX/AAAxBRZHX8sIFtAAAAAOAZ9yakX/AAAw+sQADKkAAABfQZt3SahBbJlMCE///fEAAAMBBXIWAAiko6e6dwKt/NyoeBQLgJdLB8n6YXJE5pBHGYbKMpalXsd+Fr+6kKYSmzQ/u3NOa9/dDmN1HbYeK9v19fMw4PDj7NDGYDxIA2cAAAAOQZ+VRRUsbwAAAwAAB3UAAAANAZ+0dEX/AAADAAAJeAAAAA4Bn7ZqRf8AABYh8gAN6AAAAElBm7tJqEFsmUwIT//98QAAAwEFCK4AOJyj9wPvp4NDv5K1hCtobUmUFayXu4K7or+NQUt4DIi4UyPLuyC8TjsaT2zAsJooAOmBAAAAD0Gf2UUVLG8AAAgvteADbgAAAA8Bn/h0Rf8AAATISrogKqAAAAAPAZ/6akX/AAAEyEq6ICqhAAAAaUGb/0moQWyZTAhP//3xAAADAQZyJGgA1jv3k/zcayUu5BqiMrvEnNgFSP4ksMAZqntAG+M56VR7I+4ihl+/aAFV3rYq2EImEsT/xsJWXoHW5/WJE5MSeC/D34n37Yb4empArm+Qt+AOOAAAABJBnh1FFSxvAAAmvtVGz+kAQ8EAAAAOAZ48dEX/AAAKh9QQCdkAAAARAZ4+akX/AAAWvNHcupoAqYAAAABzQZojSahBbJlMCEf//eEAAAMBsfRjIMkAGn38JC1dlaVqCK/9zx08ZRWIOiiOQoDzdnP7p3UPxVhg47LOxp//kKBzVA3DfJhWcO1bROaS6uQ2U2b6qJOlL4fVA/zUDNLcjFv6xEl/DNwlqdExceS8SoBDwQAAABNBnkFFFSxvAAAmR6MVEwqYAK2AAAAAEQGeYHRF/wAAFr97UUK4eBbRAAAADgGeYmpF/wAABNfRBAVVAAAAfEGaZ0moQWyZTAj//IQAAA3e/4o2JbYAWHcTjsAkx7twJeHssczD6Y/4CZNU1OTFJWHxiK7HTDmOvlsJLWRZ4QLjhPuUwriH2r+4wGd7do+obTbMuKUOXEznB5YJf6Z+++6RCOa0jT9rdbEvptl5ddk2uNFTuztsIY6gIeAAAAARQZ6FRRUsbwAAAwPN9rQA64AAAAAOAZ6kdEX/AAAE1JJAB80AAAAPAZ6makX/AAAKhnVgLANaAAAAekGaqUmoQWyZTBRMb/pYAAAMmNSKaAAL+D249cAtaNi7/qbqg/qtk/dq2GmtSaWTa51+S6DqfGl9MtIffrxu1ZWcVPnqOjEFG+ATSsc7y5perXUC2ZWXB0VOGfZqCrJLnSEwT+vCdUuZbA7ka3FhdsEeSoC4ERSIAJOBAAAAFwGeyGpF/wAAMHHaskfQysbsXOAPwAoYAAAAnkGazUnhClJlMCP//IQAAAZpr4tehMN2QBSt/93sKmLgbrhlqizgtBBFCPpzmFI2aU27Mx0dDHG2SEwlIXnCkgMawKVRnxnaYz9QK4GfKWzM8iaRXGwKVhNXETTQ1yK8vMQBN7mhflvKZsXOT4PAjJVvJ+3ooE/CX7WbjojL4+kjiZcWfJ3Ltd8t3Y1aNoD4qdPb0pBaoLByysDQcASdAAAAMEGe60U0TG8AACZHozpT5tX4ATFNj2KhBRKDOTyUZu0m525cRAZdxtLI7/fTpYQIuQAAABEBnwp0Rf8AABcC7T3aQ/ATMQAAABMBnwxqRf8AADBx2rJHxpxgQgKnAAAAnkGbDkmoQWiZTAjf+lgAABsk5x8w0kgR66dvNV9/3qAwHzyIyA5HG8zURxfdKE+NQKOnV1dAMyvlTtzRa5I2hqn32tE4cr85bbSC+joq2LAZ+Y5t8V0tdU66lkVpy55erhQo6viPLMrwYHbfsJDwIfzY1P+GqGNLNqHZJfsGb+CsVFpQZ7CmSynl9ha4LM3/f92tLYNpZE2BPEw1YCXgAAAAp0GbMknhClJlMCE//fEAAAMCOj68vAf5yZT9pxWnk/iICd/5xZzjyIG8jgcQ2LXhrOF9EjHXrCBXYTQgsmRZU+dLo8sMKeyWWG3xBtQqum9NkGrGmpiiWYGRKIiLKMTDJQ4cK+7q6bA2RKrHyoqC4+ciz4F19tH/Ovpw8p5DxFPiQmUMLFvZlaaVn8Vgey/QQe8A2S39DdA8PYoODqW5mnT+1WELCAsoAAAANUGfUEU0TG8AACa1eHPuAFXXQFNTg32y7rZAIu2lyFZRKwu8giGJBDp//cV2muE91uzL9AKDAAAAEwGfb3RF/wAAMOFJKr+FN1TaAwoAAAATAZ9xakX/AAAxEe4cOB+FXACFgAAAAKFBm3ZJqEFomUwIT//98QAAAwI5NePwjwMj7RxJnSw8wImyFmKO2IeakQQyoYW7rA/CXXwoDgbU0wWVnQ7hFkR9BPd9VnwHLQysEQGFhfa8xCxF//TziotKdOXxCPJ3TyFDgEf9wv4Tk7NOwgTemFRaqNBghJPfnLvbGMLwPvTBkE/U1hzjWE/YSjGOFN+DI1YVnsmEjm5QQrpMNTuW7eAUMQAAACRBn5RFESxvAAAmnySslBG3xB0fAAmUnsH/zO4H4RZYfLGQNaEAAAASAZ+zdEX/AAAxGPC0X6fmIAx5AAAAFQGftWpF/wAAMRHuHJDTUcukcACLgAAAAJZBm7pJqEFsmUwIR//94QAAAwOHCNoB8Sv8t0l3CfJcvwksHAOd3SPY4TelzZhXEIU+1EAMohS2OtAm1FgTr9E216ikht7AJeyWHP41mkF7lITRpiUa6aVk2vxfaTEQyHN1iYuHYdqFkm6W0vDJpMFeem6DN3L/+B+i050yYnbE//wAsEa9zxdsoLSKT2s+FBn1zjykBZQAAAAWQZ/YRRUsbwAAJpgy8jaTK82Mw+gPmQAAABMBn/d0Rf8AADEY8LNXsETiYA0YAAAADgGf+WpF/wAAFizsEASsAAAAU0Gb/kmoQWyZTAhH//3hAAADA4e8pAQqsgH1fuJd8PBlRtN7DqDbYzvlPG0TxYOMW9CiKja2/RNBkFQ79uG1aONayrxHtRdIn3PJKsoNceOjwFVBAAAAGUGeHEUVLG8AABIj0P/9QAhQpS7I99kYBWwAAAAQAZ47dEX/AAAXAuxrmQAXEQAAABMBnj1qRf8AADEiVysYnPh1kALjAAAAdUGaIUmoQWyZTAjf+lgAABslf1FtFJ2GUAD6rEN+gyCiPxNeumvCynKOmaB02BTdOEobFLdtTLo1tyEwdtZO6yxLsAGI6hGQ/I49C/Z6i/FyYFGvbLSYTLoz89rRaIHX23RnBUVROEdSTIm9c94qGXILJ1ACHgAAABBBnl9FFSxfAAAXAu0oACrhAAAAEQGeYGpF/wAAMQPXI21IAAq4AAAAjEGaZUmoQWyZTAjf+lgAABsoinY/by75pAAJxCRPls2ojnhoQaTYuvIwdfCC/6wFMu0SDDznlRPHzUh2d1L3xT9na3wyXvtsin4yjjikykoDJPF4hySGnJw4Ctsmz8IVUIJRT9D/JqHNNpOE9Heg9dis5knZP+0VK8Ld8YJMfmko659+0RlP3XxTPAKHAAAAK0Geg0UVLG8AACauezgz/HUAHffLtHUVfL4XK6SyJZmNbVDhcH/woIcAIWEAAAARAZ6idEX/AAAxGIpBb/F8BWwAAAAPAZ6kakX/AAAXAu0oACrgAAAAnkGaqUmoQWyZTAjf+lgAABtN/vsXdoab/y/MAQA73hsbW983/DU8e7AwAZuWnCeGhl6QPRSCangPlx/JZmhK6HjGUxPkq/rFAkTvDB6zRLY8q+IObC65vGe91GGpxzR+sXef4qDjS+mOQgkZZXT2cjk9xCEVDnbIHV7OdEyewtfDOARTIB28PT5YR2r8EOn16eip1vOOqs1bgAWoQMCBAAAANkGex0UVLG8AACa0Kk4LfNiKa0OAB59qG10faqqzzcXkrXewiO8trbHBkbhP8TYIomm9/QCggAAAABIBnuZ0Rf8AADJaGIxEdMkAfcEAAAAcAZ7oakX/AAAyOJF2Bvd8OrReoAQtndb3KAAkYAAAAKlBmu1JqEFsmUwIT//98QAAAwI90Tbg5yal74sAFraoAg9j8U2dumA4GiE9vGrctnrqWffWcFLpUzv+6mGq/dLUvM6ueDp7zELfCr7OSY/hg8qV011Dd6fYmpHarrtrKgIrmBAILhxPcxhjNqiDT40DHhwGwUyw6PEDP9zE90r4mvMwgLARt9/owuvbCNTlkB/6+wEAAmTTpZu3O1UmRBXsQAUz2ZgX/BAxAAAATEGfC0UVLG8AACZHozwxZlNQATsLKiy5uNRgXZJ2xGa6baRzHpZ+Ff/L+DFrgg8jyjH9SeR5+a5Flzd4veC4c6YG5id/an5z8QcegoMAAAAWAZ8qdEX/AAAwcdq11/2NioI0++gFbQAAABUBnyxqRf8AABdBsL35qSyjnGIQPGEAAABMQZsxSahBbJlMCEf//eEAAAMBpUX5AEQFvAsDFaxUUF029DHR9NcqnxiaXogunHG+GHC93YFWP8Y1ajU9CQXEoKnYfWc6cARNXgAFTAAAABFBn09FFSxvAAADA8IkAXAYEAAAAA8Bn250Rf8AAATISrogKqEAAAAPAZ9wakX/AAAEyEq6ICqgAAAAWUGbdUmoQWyZTAjf+lgAAAyj52QBEVA7bW1QN3/BbkawxaxlTKPfFigf/jke/rMnf/FINnU8/ZXJAvynS1lftqHoaXnYm5bg6yh8EUVJuORzn+OziO8i1gJuAAAAFkGfk0UVLG8AACZHozx2UjQvogGTAVUAAAATAZ+ydEX/AAAw70xLqDZsDCA6YQAAABMBn7RqRf8AADESQXaRQeubaBoxAAAAmUGbuUmoQWyZTAjf+lgAAAyqmf69+yAL23+qkVoav/0UheZJZ+sSNAiS0lIvql3emnJDq5o18N31NSFkaLJGI8lIcMJU7FULbZDOCUF3F81QuX2dM+9F7HRBzZty8h7a45lh/Hl/ycK3MYAGnYGO7WlMb7OSck3Sa5dG7s5fmqxTQ69KvehFeOhFaPzaJUWFGPUvB64u4Q4BZQAAAERBn9dFFSxvAAAmyQf222GCk8AJUvu89+KEFgsrhxZ3JcNNQRqaLiRLOdcIQqdvss4EySwPkrJ3/cG/5bC1xo95YlQH+AAAABIBn/Z0Rf8AADDvRR1j9szYAncAAAATAZ/4akX/AAAWsYyyCu/+gWA9IAAAAFhBm/1JqEFsmUwI3/pYAAAMpLO5AEUr+8HCDeBFeo36S6PhJ4rejZq2c7S90jLAJxLQLYMFbwkyVpzl0gwPOVDHYosSuaY3wVC5B8CNwuK6FbMu4qyVAEnAAAAAMkGeG0UVLG8AABG9AoxmZFACZVeBQLKCrk5G242BT2BM1Ppf00sKj4mS7zarnZjUdgI3AAAAEQGeOnRF/wAAFq3IIEXO4CygAAAAEwGePGpF/wAAFrGMsgrv/oFgPSEAAADJQZohSahBbJlMCN/6WAAAGyFmgmVSxsfLT35AXWap3U5Ed8qXkp7mQj4EQdBCmRn8dj3Fk6oa9OAIwUDIiD6gou93r8jrsFCLWJGeeGbl0KA+dRvpLQl/6fERCPUzm1FznpfYX5TzVspAiqH7Fha89JfAfPLrmZrp9XNslvksW/nDB9dpb4tPDCuf/6BK6TVg42wPlJzidRVr3VZRZBEP/cUrLcsMt9mQaV7BSxl6nDLoRb9pdyk1UY5LW5o/NQ+YAd2j0/OcugKrAAAAQUGeX0UVLG8AACZHoftwlyWlhbVAACbPxWRk119/GR3sG/qvSoUu+Qdj5BW/b6nH5mmzS3mMJQkwFzqkCQnnHAScAAAAFgGefnRF/wAAMHHaskegeTWJ0NSAV8EAAAAVAZ5gakX/AAAw+fpH8Si2DscZm4GfAAAA1EGaZUmoQWyZTAjf+lgAABs0aCd2gGIU4kSDzLCF6Jt8lwDBTfWMmPegGOOBBPCcHtABdEKyKodp/pTQk95GEboiuPTGBk4aLcURCk0RIkzYcDZQDFZCab9WcgWrzmxEQaOaBvRqXx63Snkczi1fCSOFhXNC1TVKD+8TLdp9sGTgrbsXRvoxbLsoTR4Z9Bww79N5DwFh2T/hd6x7XMlGRsFowFyA7vYr9L/hHyT4fBXPok5TUi4bu3CiYTePv6oUq8JmAqSs00r/ZLtXzwerkGC2eCBhAAAARUGeg0UVLG8AACa3bQq0wAcLPxVm1dyH2XsSi1Nbhxii7tkWPDwio2lDaMujYPInOTcpJQyPsRl1RP4sX0Hwa5k7wzAK2QAAABgBnqJ0Rf8AADDte4rybW6N/SQnNCPQHdAAAAAXAZ6kakX/AAAw+fpDjejWjyfDpQzoDugAAADnQZqpSahBbJlMCN/6WAAAGzN65ssgCgT9Mu3NvcfKN2FAhk2YwaASLySD/i7rKpSm4MqVfLurqURBgLYFWlE24fi8mXdzMTdNzkq03GGtihl7hB2+N18k97RbKalJKGBBOzIeDKDHGEVt51h5tEPe25LjOj3I49TepzQ+ZQWeCPaKkjls/1vzqgUgJiex7mGY7MxgxSolBDmIyaHRnwaZ2pP42jcp3jgSRmqodF3WgbVWxhmJP+9MhU6F9CBAxp3kRAguHX/V6c8ORs40SXiQStZVretuElfIP/vtrAQoe6LE5wGhlgi5AAAASUGex0UVLG8AACfYPqgZbvAAcLpDe+nrufVq7Nper6tEb7tcPyr1S8YXv9IE6OSuGRFY3GqX5r9JY2vMPAoUn9ufjcuaqZecgZUAAAAVAZ7mdEX/AAAw7p8xFwAEUgpUQEfBAAAAFwGe6GpF/wAAMlHH0JzKOCVg/37poBXwAAAAzkGa7UmoQWyZTAjf+lgAABscZNTQDSQbaaK/jZ+LevmDa9dK1SCPnf0frNJqxCVFEQ8B7oPhsFzb9x7k2gcxvU351sdseAtRl3ud9fZpis+fD9WU2v5CgqbgysmOdVX2o872hzdzSy9EmYPUh8D0jRE4MN4mfgS7UV1PZBpVBtdLzYowwZFdyQyG1MbSqeIJsnLvKZQQn3EGYdFbFzKWmaqL7wejMRjWt06dbx9Jo9OHKv0L6BvfcFnAf9dKNYjlaKOeGQ9RE2QemH5JmBLxAAAANEGfC0UVLG8AACflaH5mhrnIybAA9NtoTA1ll53E5d6+Fwy2kZU/rnQJwnOc+Jjtn6hMDUkAAAAXAZ8qdEX/AAAxsd1ZHWPrVt1sM7MOBn0AAAAXAZ8sakX/AAAw+fpDlejWjyfDLGuwEfEAAADTQZsxSahBbJlMCN/6WAAAGyUDU0A0cX4FW0cJWylFNiackwv8HWh5i3CdNDIywNAqOReEf1n4EkpkE9Rp1tB9zqhv0S98qrcg0SwUWEX2yR6MqG5zaI8v9gOo+IjQyKdRmfKvvXdL96iiGwIWlI0M4XeRYXqyOMMmm+zahgKYJ7Uunr/UTDlj3t2cyk271Xso2hWtwQDbz8lsryQf/iZGSgL9vGh1qgBxQVaugGTE/3cApzpOY41xpEWcBhMKpAO1X8eFpK2EDNq/1+4LNN0qQzMCXgAAAEJBn09FFSxvAAAnUhtUvjcyQAVXCKtg94b4tDU/+2SyBojl0NYuFM5U/yzsLYt9aVRQvXh5tGe1MYCl9QJJ7ew5AdMAAAAdAZ9udEX/AAAxsd1qBsACsgxcGmwgLawRoNbUBF0AAAAXAZ9wakX/AAAxsdijIkuoM4gcoVciAcEAAAC8QZt1SahBbJlMCE///fEAAAMCTfAJnRj2gBGQ21D77KPt1Lmpygpx3d0LpxFsJ6XS3WUr3JwRX338j/7e9htz0KE41q3PmnTyBepHDJ/MSZUDF+Vo+C+FKkHXuuZYbVYF7w4xfkVrIWdLrCGnO+fCFIvfoXqTkKHuovtZ5IwaVa7A5UQPWtLEQsvZVua4iYGnWf+s84rXaogMsc1srBWxvALJwpXtz2DmXBeXO0jfwbCSJacqHWmMC05gNmAAAAArQZ+TRRUsbwAAJ1Ih3Y7wAVwzigmRp8SqCP9/UTt0y6VOwFMCFfOtqysCzwAAABYBn7J0Rf8AADIu+mN/se9FIOlLzAODAAAAFAGftGpF/wAAMRHt9R8c1qaWAIuBAAAAbkGbuUmoQWyZTAhH//3hAAADA4ZD77HgCdSNMw8FKMorqWRu7zBpsenDnXl6LC9W9jf92XjxqZxk9f9gnb5Ln+6HMv/PwtxB4N6JGL17jn31OlJbO2EfFpZxJfqKdpK/NABBfYA6iIwkntndMAGBAAAAFEGf10UVLG8AACat4ZiJSiCEQgOmAAAAFgGf9nRF/wAAMbHY0/KrBY2sEkKA+YEAAAATAZ/4akX/AAAxsdnCItf9uSBowAAAAJlBm/1JqEFsmUwI3/pYAAAbEedf6rQCaGTsyvOGgPs2cHdjRsBrqXeehqpEHKfXBtf7944ecD7x+Iylki0AwKZCjGt7LoZygmO+euro2N9927Lu0q4N0RJR2E1dC+qiTxNqClLIemL6TpPjL4pRE3ZnMJly8wjWUEs8WAHf0I9w47IUSoQTtpAy5L+5cCbQw0VylJbstYyAqoAAAAArQZ4bRRUsbwAAJpuHXeARlh2kqNgAeADZvDOpidFRqbym2ociVRKhxnIGjQAAABQBnjp0Rf8AADGx2NPyqwWNfABewAAAABUBnjxqRf8AADGx2KMiS6gzXhsgIOEAAACuQZohSahBbJlMCN/6WAAAG0Gl2lVACKwSwZrjvzMVrEJ+RZFscozPVkSuux6DXiiHwFEr/bsJ3/dAMgCfMcKtBo70tcCh6T7bvoC7rpE5YD7ueJbMTw3nm5/EtjORHXe/87U1VcIn1kc+9Hy7Gc/27fq1ZlHto8fUz2SrB8EWn0JE+TxpE1u1grzyNljMV/RtbvcDepKsdBbd9avhj8JmwWZyunh++1Qoz5wmYEvBAAAAMEGeX0UVLG8AABIj0UOnACTKusE0kjw6vbI+MkTi31kuRMPFHKOKwgdQKq52RkDRgAAAABcBnn50Rf8AADEY8LGJ1DQ0/28FvGgY0QAAABYBnmBqRf8AADER7hs6KheBPrtZhQEfAAAAwEGaZUmoQWyZTAjf+lgAABsk6nVACYnM9l03jVSLQBJnSYsG5hzD6HQspcWffrilgZzRfltPRtOLwPg2ToIvtDF4qAZgdn2S1PY9UMH+u29JVPLXmg/viWgjgMFBDsv6ba0+GAblZGZuZEzqQtan/DqWyXUIEH9E7YYOVbzKjXZfGyLWTN6Auc34yuYAvsYB4dLv0uGLgUm+/yQfXzwBWz9Yi/9nXb5+sV5fGxdoKDxyKz3UYftuHWNLI7oGtN0BVQAAAE5BnoNFFSxvAAAm1qUADd6cx5roDV2MyPJJN3qfoAtx/jrWwkE2CnKJMnMwxEw8sZob/wKelBOaBUrkJe7xcYH6kVPA+elTbiPouuIwNSEAAAAXAZ6idEX/AAAxGPCxidQ0NP9vBYulAd0AAAAbAZ6kakX/AAAxsdijIkuoM4ga5eL4O5rYgO6AAAAArEGaqUmoQWyZTAjf+lgAABvt/vsZvmHOgFHlr3+NEloiJ7FraxQxzIs9Zn5Pz3m3YA3ngrxet9yzGRsQFRIXa9mqTcLni414IHczjJrf5mCvfOIUjjHTxxFgqOxbEnCY/sDA7IE2Sxnlkf+weX9owFmPY+qZuWc8eoX0QTndrp1aePKv01/qUUjwVwi24yDU/zT4ONazuBUc+jmMWK2sVTiIx/HVMrMWPA0AakEAAAA4QZ7HRRUsbwAAJ8P7Ao/Je8wAEqeLlO3gPuIU2qkXVCOqSH8qgXBT+qgiY78H5Uynf1q9m0aJAdMAAAAXAZ7mdEX/AAAyLvpjf7HvgkeIq1OwDgkAAAAXAZ7oakX/AAAw+fpDjejWjyfDpxPAk4AAAADhQZrtSahBbJlMCN/6WAAAG005AXroS6pX0yyfw9cdT2FVmBNL/efJ7R3Q85IF8MWt5HUyb1QFB0ISnX1g1QGrVy0NtPEPKnncvSYI3ezz4I5T37XIA3rrp0/uE5zRu3kbhsfIESSzs+DIet3N4Zjo0MqQ+0GgkUJw8JLj9jB14WlqKMFD4HYez2HFHUw67mxtzNTjbEI5LFYMn84HoCN/eQ6TRpqsSeX9o3rIji2WEWNPoxldbfwUWVTUfERj6YjTkk2zrLk4oTrxv7T9mPosTZtceVEY7gDakLmiHTxxXAdNAAAANEGfC0UVLG8AACZCZsBYFgAIs1GnoDtTwxdAteVyzg3ExvD8y8ZpJb9mB8ut3+U3hZuYAekAAAAVAZ8qdEX/AAAw7p+hxvRkiQ8+yAwJAAAAFQGfLGpF/wAAMPn6Q43o1o8oLikBHwAAAO9BmzFJqEFsmUwIT//98QAAAwI98ACntQIQHmt1FdMWjNibDo3zZX6JTchEbQhrll5Q4Y8LsQY5LOK/2qLPzKI+ckUb9qIu7vs8pVxSBqiSxpMq6t6Rek9hfDRy73uB+JlJUi9KQ8sBeGTBCz+DWT4Ovb4OrlDzXyD4qyw3ShX4Vr/oQKlMyETukT7DmPgGYSIOkrqDeJReQotdcF84pssx+4a1Sdq6QqekE5sirzwIKTKtSCzCfB5qU0DkoiD8NFMvFsepr+StlCkXUqSqbp8oEftaNrqtTDuF5zo43GqcyH7mZbto86zMk8zn+AgP8AAAADdBn09FFSxvAAAmreHqsm4VrjW84ASw1qXiFprX5D7ipGgNWpN7mUcx+7NBDqzIiHZMEO7aMCzgAAAAFgGfbnRF/wAAMQTsiQ1x7pgwToeLAk8AAAATAZ9wakX/AAAWsYyyCu/+gWA9IAAAAFBBm3VJqEFsmUwIR//94QAAAwGlTgMAHDhRAZ+JGyOGStJLNdNaVd5mkya+Uo36zVb93P00jbRj9dlb5xEWcwk9gkyuwIwofRR75gUmNGgDZgAAACxBn5NFFSxvAAARz0QbwAOyf9obzUdKlOYjpf+jKbOX3a2eOXfjphE+fUBgQQAAABMBn7J0Rf8AABatyCBFUgJ/gHXBAAAAEwGftGpF/wAAFrGM+UYVXLTAu4EAAABgQZu3SahBbJlMFEwj//3hAAADAaS1IxmQBCo4YTcgzaIOpFuIEHSYFcqUKZaKsafwI+T5Y/uiaiasUHaPlYWfXLnarV1skTj9AwwtmaJAGrf5C6qmd/VPZFDaObX1AIWAAAAAEgGf1mpF/wAAFrGMsgrwE/wDrgAAAIRBm9tJ4QpSZTAj//yEAAAGboY8fACN3/W6SqooQWKBNzOWAT7zk5rwGLITOXPVsz762wuJJBDYZKdxYJfSsS0Weo4z7x6tftaywxoXKu4Z0AhQOwtTHrQi1Hrk87sqqEBHj78Pepaw+yM48JBk1FxJm8rbvaOy7j50+IW0OBnI2Q4Ak4EAAAAVQZ/5RTRMbwAAJkejOlPpmy3LUAk4AAAAGAGeGHRF/wAAMO9k/5QogA/ZT1vsNQQEXAAAABMBnhpqRf8AADESQXXRVSDGANGBAAAAf0GaHUmoQWiZTBTxv/pYAAANB5h9JuPAGiILgDA0QV7KusEM3iQNrVTHZIxuGzXhl9g43g1kdc1t3g9J2sJdyncPulkDq9UerDZPcFDdl/xFgwyhJmRTTQcqiPgxW12WmDP8sIeSnh37IudjYZj4Ion0XOUnoWsfYDRkCRuAUMAAAAATAZ48akX/AAAxInlOpiqi0wQDewAAAIhBmiFJ4QpSZTAjf/pYAAAbTf8Z2MlJWGhHADo0VLfOLghO/8WdRn4BPGFdEtttT2M6h62oZADWWK55lF0GrIlUXfTIDPfuevrQ18E7z4Nof/wGXtiO8dKVZ0QCyA+FPCCaaCNV7/LAjW/rOnC6QUB9yIcO/URbfkMDm7OO4XXTosQucLvg0BDxAAAAPkGeX0U0TG8AACbEfgdflmwASoSdxk6POu9HqTZPn+uLaqr8tWSquLx8JBdCkRcqKCGNSHySYRn5K+F6QIuAAAAAFQGefnRF/wAAMHHaskegeTWrTjgGNQAAABQBnmBqRf8AADBx2rJHxdL/g0DRgAAAAIpBmmVJqEFomUwI3/pYAAAbJVZSI2MaADjJBEXKC52Dqb2XuLFKevNA2O8efBXOeqjpeK7we9yQYVJHf3o/RxdbcCrIL+nlxr9cL2pZIi+Td+is6pA//cOwM1MFTZYTRnQNDGLSTdTCDSmIRln3LOBpBoGBQE7hLJWahiTj67E7AFgKhV7ukRugKqEAAAAhQZ6DRREsbwAAJkejOlPvd6bgAfDEo1x8oVl2fwVdIDphAAAAEgGeonRF/wAAFz3kQFgEaACRgAAAABABnqRqRf8AADESQXaOkAVcAAAAh0GaqUmoQWyZTAjf+lgAABsog69sLSZZAARxA7VidnuGICdMnGu4J3MWMCTZsODbd3DQMGXxyq4ck+8zIoc9oTpWN8pfyKUvNhuH4umKeByY8qaEG/bRJcOOcktPqDNEEcSRRH+dROY7V9pBwX/Cg7h0bbAKsMS4MY0CpxHlL3ncEjuwv8AoYQAAACBBnsdFFSxvAAAlrnzwp0nAAHZfIfbZBbNC4ovU/oBQQAAAABEBnuZ0Rf8AADEZT2dJCIApIQAAABQBnuhqRf8AADESQVTYxeN2SwBowAAAAIZBmu1JqEFsmUwI3/pYAAAbIz6PURRgAo0/Dz3oOab862RMfVHfJjnmPl+EF4ZAxqWOrS83MZqvxUZ47l0wH0Rm6HJ9SSivnsQQD4lnCrzSdZcMCz+fv+hmtCOjUh1c+HKe1cTLuHkI0OwiILiRJVv4KeOTtWqKVkuw0dE93xikREMUw0gLKQAAABBBnwtFFSxvAAASI9GFwBQRAAAAEgGfKnRF/wAAFwLsafuOBt0BWwAAABwBnyxqRf8AAC/SQgRVDphACDHJ4DTtzvtXACFhAAAAiUGbMUmoQWyZTAjf+lgAABs1JEpagD5Gau4P0twGf5i5PGrtzka99sHFSI9FQbD3KBaRSgsH61bs6wmvdUQsqZBH/vm/tJbqDmobl+iAo5C6xooE9PI7GEvgIlYKhDhvcYrxsUI0bDxVbx8Mm0wyc98bWdwhInJx+ppC75s8T871EfwlonGoABnwAAAAO0GfT0UVLG8AABIj0H6/Fg60AE39hWDxGwjhr147sqI2R6iiCTs/Ua6zHsEAnGozdBMGMfIS5bO54MWAAAAAGAGfbnRF/wAAMRjwsYnUNDT/bw81RNgB/wAAABcBn3BqRf8AADDgHCxMIbqN+gRx6gChgAAAAHZBm3VJqEFsmUwI3/pYAAAbMY8fqAE77GxmzJ0ddiZX+vQu7+fYBLXKYAMvqqN7YKquY8pBTWmCrFw4WPjo92U+9flzAp6lYt/vEtCssB14Nh7OIar+N9RGaRWGxF43N6zm/Iqleg9Vz2vbO0JDtxQYy2fcgKqAAAAAOkGfk0UVLG8AACa16+ACLVlAgIBWzBwcCWISX1JlGylzxl2hkbU1gHLGVvk6caOOL0hz/m5pddrQAd0AAAAUAZ+ydEX/AAAxGPBW03C6F1kwFVEAAAAYAZ+0akX/AAAxEe4bOioXgT9MubmwQLuBAAAASUGbuUmoQWyZTAi/+lgAABsk8WBAC1/LmfGuQ+4YerPk8PYPgK7Dvul2JWbBSOZJW5D7cg4qzd7OFrg1IK14QxRN45Hdy0CMBGwAAAA+QZ/XRRUsbwAAJ9jZSzEQrZGkjSQAkBs5yqxgmrFWEfCcJSIlM5fo4Wmj2h8jVTLkNFxjH+72TLcaVOxsBrQAAAAVAZ/2dEX/AAAxGPCzV7BE2w3GIBjRAAAAFgGf+GpF/wAAL9a776SNwhVUP+FgY0AAABpebW9vdgAAAGxtdmhkAAAAAAAAAAAAAAAAAAAD6AAAE4gAAQAAAQAAAAAAAAAAAAAAAAEAAAAAAAAAAAAAAAAAAAABAAAAAAAAAAAAAAAAAABAAAAAAAAAAAAAAAAAAAAAAAAAAAAAAAAAAAAAAAAAAgAAGYh0cmFrAAAAXHRraGQAAAADAAAAAAAAAAAAAAABAAAAAAAAE4gAAAAAAAAAAAAAAAAAAAAAAAEAAAAAAAAAAAAAAAAAAAABAAAAAAAAAAAAAAAAAABAAAAAAeAAAAHgAAAAAAAkZWR0cwAAABxlbHN0AAAAAAAAAAEAABOIAAABAAABAAAAABkAbWRpYQAAACBtZGhkAAAAAAAAAAAAAAAAAAAyAAAA+gBVxAAAAAAALWhkbHIAAAAAAAAAAHZpZGUAAAAAAAAAAAAAAABWaWRlb0hhbmRsZXIAAAAYq21pbmYAAAAUdm1oZAAAAAEAAAAAAAAAAAAAACRkaW5mAAAAHGRyZWYAAAAAAAAAAQAAAAx1cmwgAAAAAQAAGGtzdGJsAAAAl3N0c2QAAAAAAAAAAQAAAIdhdmMxAAAAAAAAAAEAAAAAAAAAAAAAAAAAAAAAAeAB4ABIAAAASAAAAAAAAAABAAAAAAAAAAAAAAAAAAAAAAAAAAAAAAAAAAAAAAAAAAAAGP//AAAAMWF2Y0MBZAAf/+EAGGdkAB+s2UHg9oQAAAMABAAAAwMgPGDGWAEABmjr48siwAAAABhzdHRzAAAAAAAAAAEAAAH0AAAAgAAAABhzdHNzAAAAAAAAAAIAAAABAAAA+wAAD4hjdHRzAAAAAAAAAe8AAAABAAABAAAAAAEAAAKAAAAAAQAAAQAAAAABAAAAAAAAAAEAAACAAAAAAQAAAoAAAAABAAABAAAAAAEAAAAAAAAAAQAAAIAAAAABAAACgAAAAAEAAAEAAAAAAQAAAAAAAAABAAAAgAAAAAEAAAKAAAAAAQAAAQAAAAABAAAAAAAAAAEAAACAAAAAAQAAAoAAAAABAAABAAAAAAEAAAAAAAAAAQAAAIAAAAABAAACgAAAAAEAAAEAAAAAAQAAAAAAAAABAAAAgAAAAAEAAAKAAAAAAQAAAQAAAAABAAAAAAAAAAEAAACAAAAAAQAAAgAAAAACAAAAgAAAAAEAAAKAAAAAAQAAAQAAAAABAAAAAAAAAAEAAACAAAAAAQAAAoAAAAABAAABAAAAAAEAAAAAAAAAAQAAAIAAAAABAAACgAAAAAEAAAEAAAAAAQAAAAAAAAABAAAAgAAAAAEAAAKAAAAAAQAAAQAAAAABAAAAAAAAAAEAAACAAAAAAQAAAQAAAAABAAABgAAAAAEAAACAAAAAAQAAAYAAAAABAAAAgAAAAAEAAAEAAAAAAQAAAoAAAAABAAABAAAAAAEAAAAAAAAAAQAAAIAAAAABAAACgAAAAAEAAAEAAAAAAQAAAAAAAAABAAAAgAAAAAEAAAKAAAAAAQAAAQAAAAABAAAAAAAAAAEAAACAAAAAAQAAAQAAAAABAAABgAAAAAEAAACAAAAAAQAAAoAAAAABAAABAAAAAAEAAAAAAAAAAQAAAIAAAAABAAACgAAAAAEAAAEAAAAAAQAAAAAAAAABAAAAgAAAAAEAAAKAAAAAAQAAAQAAAAABAAAAAAAAAAEAAACAAAAAAQAAAoAAAAABAAABAAAAAAEAAAAAAAAAAQAAAIAAAAABAAACgAAAAAEAAAEAAAAAAQAAAAAAAAABAAAAgAAAAAEAAAKAAAAAAQAAAQAAAAABAAAAAAAAAAEAAACAAAAAAQAAAYAAAAABAAAAgAAAAAEAAAKAAAAAAQAAAQAAAAABAAAAAAAAAAEAAACAAAAAAQAAAoAAAAABAAABAAAAAAEAAAAAAAAAAQAAAIAAAAABAAACgAAAAAEAAAEAAAAAAQAAAAAAAAABAAAAgAAAAAEAAAKAAAAAAQAAAQAAAAABAAAAAAAAAAEAAACAAAAAAQAAAoAAAAABAAABAAAAAAEAAAAAAAAAAQAAAIAAAAABAAACgAAAAAEAAAEAAAAAAQAAAAAAAAABAAAAgAAAAAEAAAKAAAAAAQAAAQAAAAABAAAAAAAAAAEAAACAAAAAAQAAAoAAAAABAAABAAAAAAEAAAAAAAAAAQAAAIAAAAABAAACgAAAAAEAAAEAAAAAAQAAAAAAAAABAAAAgAAAAAEAAAKAAAAAAQAAAQAAAAABAAAAAAAAAAEAAACAAAAAAQAAAoAAAAABAAABAAAAAAEAAAAAAAAAAQAAAIAAAAABAAACgAAAAAEAAAEAAAAAAQAAAAAAAAABAAAAgAAAAAEAAAKAAAAAAQAAAQAAAAABAAAAAAAAAAEAAACAAAAAAQAAAoAAAAABAAABAAAAAAEAAAAAAAAAAQAAAIAAAAABAAACgAAAAAEAAAEAAAAAAQAAAAAAAAABAAAAgAAAAAEAAAKAAAAAAQAAAQAAAAABAAAAAAAAAAEAAACAAAAAAQAAAoAAAAABAAABAAAAAAEAAAAAAAAAAQAAAIAAAAABAAACgAAAAAEAAAEAAAAAAQAAAAAAAAABAAAAgAAAAAEAAAKAAAAAAQAAAQAAAAABAAAAAAAAAAEAAACAAAAAAQAAAQAAAAABAAACgAAAAAEAAAEAAAAAAQAAAAAAAAABAAAAgAAAAAIAAAEAAAAAAQAAAYAAAAABAAAAgAAAAAEAAAKAAAAAAQAAAQAAAAABAAAAAAAAAAEAAACAAAAAAQAAAoAAAAABAAABAAAAAAEAAAAAAAAAAQAAAIAAAAABAAABAAAAAAEAAAGAAAAAAQAAAIAAAAABAAACgAAAAAEAAAEAAAAAAQAAAAAAAAABAAAAgAAAAAEAAAKAAAAAAQAAAQAAAAABAAAAAAAAAAEAAACAAAAAAQAAAoAAAAABAAABAAAAAAEAAAAAAAAAAQAAAIAAAAABAAACgAAAAAEAAAEAAAAAAQAAAAAAAAABAAAAgAAAAAEAAAGAAAAAAQAAAIAAAAABAAACgAAAAAEAAAEAAAAAAQAAAAAAAAABAAAAgAAAAAEAAAKAAAAAAQAAAQAAAAABAAAAAAAAAAEAAACAAAAAAQAAAoAAAAABAAABAAAAAAEAAAAAAAAAAQAAAIAAAAABAAACgAAAAAEAAAEAAAAAAQAAAAAAAAABAAAAgAAAAAEAAAKAAAAAAQAAAQAAAAABAAAAAAAAAAEAAACAAAAAAQAAAoAAAAABAAABAAAAAAEAAAAAAAAAAQAAAIAAAAABAAACgAAAAAEAAAEAAAAAAQAAAAAAAAABAAAAgAAAAAEAAAKAAAAAAQAAAQAAAAABAAAAAAAAAAEAAACAAAAAAQAAAoAAAAABAAABAAAAAAEAAAAAAAAAAQAAAIAAAAABAAACgAAAAAEAAAEAAAAAAQAAAAAAAAABAAAAgAAAAAIAAAEAAAAAAQAAAoAAAAABAAABAAAAAAEAAAAAAAAAAQAAAIAAAAABAAACgAAAAAEAAAEAAAAAAQAAAAAAAAABAAAAgAAAAAEAAAKAAAAAAQAAAQAAAAABAAAAAAAAAAEAAACAAAAAAQAAAoAAAAABAAABAAAAAAEAAAAAAAAAAQAAAIAAAAABAAACgAAAAAEAAAEAAAAAAQAAAAAAAAABAAAAgAAAAAEAAAKAAAAAAQAAAQAAAAABAAAAAAAAAAEAAACAAAAAAQAAAoAAAAABAAABAAAAAAEAAAAAAAAAAQAAAIAAAAABAAACAAAAAAIAAACAAAAAAQAAAoAAAAABAAABAAAAAAEAAAAAAAAAAQAAAIAAAAABAAACgAAAAAEAAAEAAAAAAQAAAAAAAAABAAAAgAAAAAEAAAKAAAAAAQAAAQAAAAABAAAAAAAAAAEAAACAAAAAAQAAAoAAAAABAAABAAAAAAEAAAAAAAAAAQAAAIAAAAABAAACgAAAAAEAAAEAAAAAAQAAAAAAAAABAAAAgAAAAAEAAAKAAAAAAQAAAQAAAAABAAAAAAAAAAEAAACAAAAAAQAAAoAAAAABAAABAAAAAAEAAAAAAAAAAQAAAIAAAAABAAACgAAAAAEAAAEAAAAAAQAAAAAAAAABAAAAgAAAAAEAAAKAAAAAAQAAAQAAAAABAAAAAAAAAAEAAACAAAAAAQAAAoAAAAABAAABAAAAAAEAAAAAAAAAAQAAAIAAAAABAAACgAAAAAEAAAEAAAAAAQAAAAAAAAABAAAAgAAAAAEAAAKAAAAAAQAAAQAAAAABAAAAAAAAAAEAAACAAAAAAQAAAoAAAAABAAABAAAAAAEAAAAAAAAAAQAAAIAAAAABAAACgAAAAAEAAAEAAAAAAQAAAAAAAAABAAAAgAAAAAEAAAKAAAAAAQAAAQAAAAABAAAAAAAAAAEAAACAAAAAAQAAAoAAAAABAAABAAAAAAEAAAAAAAAAAQAAAIAAAAABAAACgAAAAAEAAAEAAAAAAQAAAAAAAAABAAAAgAAAAAEAAAKAAAAAAQAAAQAAAAABAAAAAAAAAAEAAACAAAAAAQAAAYAAAAABAAAAgAAAAAEAAAKAAAAAAQAAAQAAAAABAAAAAAAAAAEAAACAAAAAAQAAAQAAAAABAAACgAAAAAEAAAEAAAAAAQAAAAAAAAABAAAAgAAAAAEAAAKAAAAAAQAAAQAAAAABAAAAAAAAAAEAAACAAAAAAQAAAoAAAAABAAABAAAAAAEAAAAAAAAAAQAAAIAAAAABAAACgAAAAAEAAAEAAAAAAQAAAAAAAAABAAAAgAAAAAEAAAIAAAAAAgAAAIAAAAABAAACgAAAAAEAAAEAAAAAAQAAAAAAAAABAAAAgAAAAAEAAAKAAAAAAQAAAQAAAAABAAAAAAAAAAEAAACAAAAAAQAAAoAAAAABAAABAAAAAAEAAAAAAAAAAQAAAIAAAAABAAACgAAAAAEAAAEAAAAAAQAAAAAAAAABAAAAgAAAAAEAAAKAAAAAAQAAAQAAAAABAAAAAAAAAAEAAACAAAAAAQAAAoAAAAABAAABAAAAAAEAAAAAAAAAAQAAAIAAAAABAAACgAAAAAEAAAEAAAAAAQAAAAAAAAABAAAAgAAAAAEAAAKAAAAAAQAAAQAAAAABAAAAAAAAAAEAAACAAAAAAQAAAoAAAAABAAABAAAAAAEAAAAAAAAAAQAAAIAAAAABAAACgAAAAAEAAAEAAAAAAQAAAAAAAAABAAAAgAAAAAEAAAKAAAAAAQAAAQAAAAABAAAAAAAAAAEAAACAAAAAAQAAAoAAAAABAAABAAAAAAEAAAAAAAAAAQAAAIAAAAABAAACgAAAAAEAAAEAAAAAAQAAAAAAAAABAAAAgAAAAAEAAAKAAAAAAQAAAQAAAAABAAAAAAAAAAEAAACAAAAAAQAAAoAAAAABAAABAAAAAAEAAAAAAAAAAQAAAIAAAAABAAACgAAAAAEAAAEAAAAAAQAAAAAAAAABAAAAgAAAAAEAAAKAAAAAAQAAAQAAAAABAAAAAAAAAAEAAACAAAAAAQAAAoAAAAABAAABAAAAAAEAAAAAAAAAAQAAAIAAAAABAAACgAAAAAEAAAEAAAAAAQAAAAAAAAABAAAAgAAAAAEAAAKAAAAAAQAAAQAAAAABAAAAAAAAAAEAAACAAAAAAQAAAoAAAAABAAABAAAAAAEAAAAAAAAAAQAAAIAAAAABAAABgAAAAAEAAACAAAAAAQAAAoAAAAABAAABAAAAAAEAAAAAAAAAAQAAAIAAAAABAAABgAAAAAEAAACAAAAAAQAAAoAAAAABAAABAAAAAAEAAAAAAAAAAQAAAIAAAAABAAACgAAAAAEAAAEAAAAAAQAAAAAAAAABAAAAgAAAAAEAAAKAAAAAAQAAAQAAAAABAAAAAAAAAAEAAACAAAAAAQAAAoAAAAABAAABAAAAAAEAAAAAAAAAAQAAAIAAAAABAAACgAAAAAEAAAEAAAAAAQAAAAAAAAABAAAAgAAAAAEAAAKAAAAAAQAAAQAAAAABAAAAAAAAAAEAAACAAAAAAQAAAoAAAAABAAABAAAAAAEAAAAAAAAAAQAAAIAAAAAcc3RzYwAAAAAAAAABAAAAAQAAAfQAAAABAAAH5HN0c3oAAAAAAAAAAAAAAfQAAA9kAAAAuwAAADMAAAArAAAALQAAANUAAAA+AAAALAAAABQAAADGAAAAMgAAABUAAAAaAAAAhwAAABoAAAAVAAAAFQAAAFIAAAAVAAAAFgAAABQAAABTAAAAFQAAABIAAAASAAAAbQAAABcAAAATAAAAEwAAAIAAAAAWAAAAEgAAAJ0AAAAoAAAAFQAAABUAAACGAAAAFQAAABEAAAASAAAAVQAAABIAAAATAAAAEgAAAHoAAAAgAAAAFQAAABUAAAB0AAAAfAAAABIAAAB9AAAAFAAAAHYAAACpAAAAOQAAABYAAAAkAAAAswAAAEkAAAAgAAAAJAAAAM0AAAA9AAAAFQAAAB0AAACKAAAApAAAABcAAACjAAAAIgAAABIAAAAWAAAAagAAABgAAAAWAAAAFQAAAFYAAAAcAAAAFgAAABUAAACFAAAAIQAAABMAAAAVAAAAOQAAABgAAAARAAAAFAAAAI4AAAAlAAAAGgAAABcAAACYAAAAGgAAAIkAAAAbAAAAFQAAABQAAADxAAAAGwAAABgAAAAVAAAAsgAAACUAAAAaAAAAFwAAAEYAAAAVAAAAEwAAABUAAACSAAAAHAAAABIAAAAYAAAAjgAAABsAAAAXAAAAFAAAAC8AAAAWAAAAFQAAABQAAACfAAAAMAAAABIAAAAeAAAApAAAACoAAAAXAAAAHQAAAMAAAAAwAAAAFQAAACIAAACeAAAAGQAAABgAAAAUAAAAagAAABkAAAAWAAAAFQAAAGkAAAAcAAAAFgAAABUAAABvAAAAFwAAABUAAAAYAAAAbwAAABUAAAASAAAAEQAAAI8AAAAZAAAAEQAAABIAAABaAAAAFQAAABIAAAASAAAAfwAAACIAAAAVAAAAFwAAAJQAAAAmAAAAGQAAABUAAACPAAAAjwAAAD4AAAAVAAAAFQAAAJgAAACJAAAAsQAAABYAAACWAAAAGAAAABUAAAAUAAAAXAAAAB4AAAAUAAAAEwAAAJEAAACSAAAAFwAAAIgAAAAiAAAAGgAAABkAAAB3AAAAEgAAABMAAAARAAAApgAAABsAAAAfAAAAEQAAAG8AAAAaAAAAEwAAABMAAAClAAAAFQAAAKwAAAAjAAAAFQAAABcAAAB+AAAAGAAAABQAAAAUAAAAqAAAAC8AAAAYAAAAFgAAAJAAAAAVAAAAFgAAABIAAABJAAAAFgAAABEAAAATAAAAmwAAADYAAAAaAAAAIQAAAMUAAAA6AAAAFQAAABcAAACpAAAASgAAABwAAAAbAAAAwQAAABsAAAAZAAAAEQAAAJQAAAAYAAAAFAAAABUAAAAdAAAO5gAAALMAAAA0AAAAEgAAABQAAACpAAAAMAAAABcAAAARAAAApgAAABUAAAAWAAAAGAAAAGkAAAAWAAAAEwAAABkAAACFAAAAGAAAABIAAAAZAAAAgwAAABgAAAAUAAAAEQAAAHcAAAAZAAAAEwAAABUAAACTAAAAIQAAABgAAACjAAAAMgAAABgAAAAVAAAAcAAAACEAAAAZAAAAFAAAAHwAAAAeAAAAFAAAABQAAACDAAAAFgAAABQAAAATAAAAuQAAABwAAAASAAAAGAAAAHcAAAAZAAAAFgAAABIAAABYAAAAGAAAABUAAAARAAAAhQAAABYAAAAXAAAAFwAAAKQAAAApAAAAFgAAABcAAACvAAAAMQAAABgAAAAWAAAAYAAAACoAAAAaAAAAFQAAAHIAAAAZAAAAEwAAABUAAAAsAAAAFQAAABUAAAASAAAAYwAAABIAAAARAAAAEgAAAE0AAAATAAAAEwAAABMAAABtAAAAFgAAABIAAAAVAAAAdwAAABcAAAAVAAAAEgAAAIAAAAAVAAAAEgAAABMAAAB+AAAAGwAAAKIAAAA0AAAAFQAAABcAAACiAAAAqwAAADkAAAAXAAAAFwAAAKUAAAAoAAAAFgAAABkAAACaAAAAGgAAABcAAAASAAAAVwAAAB0AAAAUAAAAFwAAAHkAAAAUAAAAFQAAAJAAAAAvAAAAFQAAABMAAACiAAAAOgAAABYAAAAgAAAArQAAAFAAAAAaAAAAGQAAAFAAAAAVAAAAEwAAABMAAABdAAAAGgAAABcAAAAXAAAAnQAAAEgAAAAWAAAAFwAAAFwAAAA2AAAAFQAAABcAAADNAAAARQAAABoAAAAZAAAA2AAAAEkAAAAcAAAAGwAAAOsAAABNAAAAGQAAABsAAADSAAAAOAAAABsAAAAbAAAA1wAAAEYAAAAhAAAAGwAAAMAAAAAvAAAAGgAAABgAAAByAAAAGAAAABoAAAAXAAAAnQAAAC8AAAAYAAAAGQAAALIAAAA0AAAAGwAAABoAAADEAAAAUgAAABsAAAAfAAAAsAAAADwAAAAbAAAAGwAAAOUAAAA4AAAAGQAAABkAAADzAAAAOwAAABoAAAAXAAAAVAAAADAAAAAXAAAAFwAAAGQAAAAWAAAAiAAAABkAAAAcAAAAFwAAAIMAAAAXAAAAjAAAAEIAAAAZAAAAGAAAAI4AAAAlAAAAFgAAABQAAACLAAAAJAAAABUAAAAYAAAAigAAABQAAAAWAAAAIAAAAI0AAAA/AAAAHAAAABsAAAB6AAAAPgAAABgAAAAcAAAATQAAAEIAAAAZAAAAGgAAABRzdGNvAAAAAAAAAAEAAAAwAAAAYnVkdGEAAABabWV0YQAAAAAAAAAhaGRscgAAAAAAAAAAbWRpcmFwcGwAAAAAAAAAAAAAAAAtaWxzdAAAACWpdG9vAAAAHWRhdGEAAAABAAAAAExhdmY1OC4yOS4xMDA=\" type=\"video/mp4\" />\n",
       "                </video>"
      ],
      "text/plain": [
       "<IPython.core.display.HTML object>"
      ]
     },
     "metadata": {},
     "output_type": "display_data"
    }
   ],
   "source": [
    "show_videos(\"videos\", prefix=\"ppo\")"
   ]
  },
  {
   "cell_type": "markdown",
   "metadata": {
    "colab_type": "text",
    "id": "9Y8zg4V566qD"
   },
   "source": [
    "## Bonus: Train a RL Model in One Line\n",
    "\n",
    "The policy class to use will be inferred and the environment will be automatically created. This works because both are [registered](https://stable-baselines.readthedocs.io/en/master/guide/quickstart.html)."
   ]
  },
  {
   "cell_type": "code",
   "execution_count": 18,
   "metadata": {
    "colab": {},
    "colab_type": "code",
    "id": "iaOPfOrwWEP4"
   },
   "outputs": [
    {
     "name": "stderr",
     "output_type": "stream",
     "text": [
      "/home/lisca/biomec/install/a202406/envs/ob-rl-ai/lib/python3.10/site-packages/stable_baselines3/common/on_policy_algorithm.py:150: UserWarning: You are trying to run PPO on the GPU, but it is primarily intended to run on the CPU when not using a CNN policy (you are using ActorCriticPolicy which should be a MlpPolicy). See https://github.com/DLR-RM/stable-baselines3/issues/1245 for more info. You can pass `device='cpu'` or `export CUDA_VISIBLE_DEVICES=` to force using the CPU.Note: The model will train, but the GPU utilization will be poor and the training might take longer than on CPU.\n",
      "  warnings.warn(\n"
     ]
    },
    {
     "name": "stdout",
     "output_type": "stream",
     "text": [
      "Using cuda device\n",
      "Creating environment from the given name 'MyoElbow1Dof6MuscStativ-v2'\n",
      "Wrapping the env with a `Monitor` wrapper\n",
      "Wrapping the env in a DummyVecEnv.\n",
      "---------------------------------\n",
      "| rollout/           |          |\n",
      "|    ep_len_mean     | 100      |\n",
      "|    ep_rew_mean     | 100      |\n",
      "| time/              |          |\n",
      "|    fps             | 801      |\n",
      "|    iterations      | 1        |\n",
      "|    time_elapsed    | 2        |\n",
      "|    total_timesteps | 2048     |\n",
      "---------------------------------\n"
     ]
    }
   ],
   "source": [
    "# model = PPO('MlpPolicy', \"CartPole-v1\", verbose=1).learn(1000)\n",
    "\n",
    "model = PPO('MlpPolicy', \"MyoElbow1Dof6MuscStativ-v2\", verbose=1).learn(1000)"
   ]
  },
  {
   "cell_type": "markdown",
   "metadata": {
    "colab_type": "text",
    "id": "FrI6f5fWnzp-"
   },
   "source": [
    "## Conclusion\n",
    "\n",
    "In this notebook we have seen:\n",
    "- how to define and train a RL model using stable baselines3, it takes only one line of code ;)\n"
   ]
  }
 ],
 "metadata": {
  "accelerator": "GPU",
  "colab": {
   "collapsed_sections": [],
   "name": "1_getting_started.ipynb",
   "provenance": []
  },
  "kernelspec": {
   "display_name": "Python 3 (ipykernel)",
   "language": "python",
   "name": "python3"
  },
  "language_info": {
   "codemirror_mode": {
    "name": "ipython",
    "version": 3
   },
   "file_extension": ".py",
   "mimetype": "text/x-python",
   "name": "python",
   "nbconvert_exporter": "python",
   "pygments_lexer": "ipython3",
   "version": "3.10.15"
  },
  "vscode": {
   "interpreter": {
    "hash": "3201c96db5836b171d01fee72ea1be894646622d4b41771abf25c98b548a611d"
   }
  }
 },
 "nbformat": 4,
 "nbformat_minor": 4
}
